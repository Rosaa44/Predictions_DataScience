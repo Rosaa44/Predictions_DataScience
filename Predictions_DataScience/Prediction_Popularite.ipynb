{
 "cells": [
  {
   "cell_type": "markdown",
   "metadata": {
    "collapsed": true
   },
   "source": [
    "## Partie 1 - Description du problème"
   ]
  },
  {
   "cell_type": "markdown",
   "metadata": {},
   "source": [
    "On a modifié les données du GooglePlayStore (dans le notebook modifDonnees.ipynb) pour les rendre exploitables, nous allons donc maintenant... les exploiter. On utilisera pour cela exploiter des ***perceptrons***, on espère qu'avec ces algorithmes, on pourra prédire quel va être le succès d'une application (le nombre d'installations et ses critiques)  avant qu'elle soit \"lancée\" sur le GooglePlaystore. On pourra utiliser le perceptron le\" ClassifierPerceptron\",le \"ClassifierPerceptronBiais\", le \"ClassifierPerceptronKernel\", le \"ClassifierADALINE\"."
   ]
  },
  {
   "cell_type": "markdown",
   "metadata": {},
   "source": [
    "## Partie 2 - Modèle"
   ]
  },
  {
   "cell_type": "markdown",
   "metadata": {},
   "source": [
    "On importe d'abord les données \"nettoyées\" de googleplaystoreCLEAN.csv, on considère que pour chaque description d'app, le label est dans la colonne \"Installs\" (dans la 1ere partie) puis dansla colonne \"Rating\" (dans la 2eme partie). On sépare les données en données d'entrainement et données à tester.On cherche a faire une classification multi-classe comme Installs a 9 valeurs possibles, on utilise donc la méthode ClassifierMultiOAA avec les données d'entrainement.\n",
    "Après avoir appliqué chaque perceptron sur les données d'entrainement, on teste leur efficacité sur les données tests."
   ]
  },
  {
   "cell_type": "markdown",
   "metadata": {},
   "source": [
    "On essaie d'abord de prevoir quel va être le nombre d'installation de l'application, puis on essaie de prévoir les critiques qu'elle va avoir."
   ]
  },
  {
   "cell_type": "markdown",
   "metadata": {},
   "source": [
    "## Partie 3 - Code"
   ]
  },
  {
   "cell_type": "code",
   "execution_count": 13,
   "metadata": {},
   "outputs": [
    {
     "name": "stdout",
     "output_type": "stream",
     "text": [
      "Index(['App', 'Rating', 'Size', 'Installs', 'Category1.9',\n",
      "       'CategoryART_AND_DESIGN', 'CategoryAUTO_AND_VEHICLES', 'CategoryBEAUTY',\n",
      "       'CategoryBOOKS_AND_REFERENCE', 'CategoryBUSINESS', 'CategoryCOMICS',\n",
      "       'CategoryCOMMUNICATION', 'CategoryDATING', 'CategoryEDUCATION',\n",
      "       'CategoryENTERTAINMENT', 'CategoryEVENTS', 'CategoryFAMILY',\n",
      "       'CategoryFINANCE', 'CategoryFOOD_AND_DRINK', 'CategoryGAME',\n",
      "       'CategoryHEALTH_AND_FITNESS', 'CategoryHOUSE_AND_HOME',\n",
      "       'CategoryLIBRARIES_AND_DEMO', 'CategoryLIFESTYLE',\n",
      "       'CategoryMAPS_AND_NAVIGATION', 'CategoryMEDICAL',\n",
      "       'CategoryNEWS_AND_MAGAZINES', 'CategoryPARENTING',\n",
      "       'CategoryPERSONALIZATION', 'CategoryPHOTOGRAPHY',\n",
      "       'CategoryPRODUCTIVITY', 'CategorySHOPPING', 'CategorySOCIAL',\n",
      "       'CategorySPORTS', 'CategoryTOOLS', 'CategoryTRAVEL_AND_LOCAL',\n",
      "       'CategoryVIDEO_PLAYERS', 'CategoryWEATHER', 'Price1', 'Price2',\n",
      "       'Price3', 'Price4', 'Price5', 'Android Ver1', 'Android Ver2',\n",
      "       'Android Ver3', 'Android Ver4', 'Android Ver5', 'Android Ver6',\n",
      "       'Android Ver7', 'Android Ver8', 'Content RatingAdults only 18+',\n",
      "       'Content RatingEmpty', 'Content RatingEveryone',\n",
      "       'Content RatingEveryone 10+', 'Content RatingMature 17+',\n",
      "       'Content RatingTeen', 'Content RatingUnrated'],\n",
      "      dtype='object')\n"
     ]
    }
   ],
   "source": [
    "import numpy as np\n",
    "import pandas as pd\n",
    "import matplotlib.pyplot as plt\n",
    "import math\n",
    "from statistics import mean\n",
    "%matplotlib inline\n",
    "\n",
    "import sys\n",
    "sys.path.append('../')  \n",
    "\n",
    "import iads as iads\n",
    "\n",
    "# importation de Classifiers\n",
    "from iads import Classifiers as classif\n",
    "\n",
    "# importation de utils\n",
    "from iads import utils as ut\n",
    "\n",
    "data = pd.read_csv(\"GoogleApps/googleplaystoreCLEAN.csv\",encoding='utf-8')\n",
    "data=data.drop(\"Unnamed: 0\",axis=1)\n",
    "\n",
    "print(data.columns)    "
   ]
  },
  {
   "cell_type": "markdown",
   "metadata": {},
   "source": [
    "On applique les perceptrons sur \"Installs\""
   ]
  },
  {
   "cell_type": "code",
   "execution_count": 14,
   "metadata": {},
   "outputs": [
    {
     "name": "stdout",
     "output_type": "stream",
     "text": [
      "Accuracy de ClassifierPerceptron :  0.06964944649446494\n",
      "Accuracy de ClassifierPerceptronBiais :  0.1392988929889299\n",
      "Accuracy de ClassifierPerceptronKernel :  0.12592250922509224\n"
     ]
    }
   ],
   "source": [
    "Y=np.array(data[\"Installs\"])\n",
    "data=data.drop(\"Rating\",axis=1)\n",
    "data=data.drop(\"Installs\",axis=1)\n",
    "X=np.array(data)\n",
    "\n",
    "input_dimension=56\n",
    "learning_rate=1\n",
    "classes=[i for i in range(1,10)]\n",
    "\n",
    "Xapp,Yapp,Xtest,Ytest = ut.crossval_strat(X, Y, 5, 0)\n",
    "\n",
    "cl1=classif.ClassifierMultiOAA(classif.ClassifierPerceptron(input_dimension,learning_rate),classes)\n",
    "cl2=classif.ClassifierMultiOAA(classif.ClassifierPerceptronBiais(input_dimension,learning_rate),classes)\n",
    "kernel=classif.KernelBias(input_dimension,input_dimension+1)\n",
    "cl3=classif.ClassifierMultiOAA(classif.ClassifierPerceptronKernel(input_dimension,learning_rate,kernel),classes)\n",
    "#cl4=classif.ClassifierMultiOAA(classif.ClassifierADALINE(input_dimension,0.0001,100),classes)\n",
    "\n",
    "cl1.train(Xapp,Yapp)\n",
    "cl2.train(Xapp,Yapp)\n",
    "cl3.train(Xapp,Yapp)\n",
    "#cl4.train(Xapp,Yapp)\n",
    "\n",
    "print(\"Accuracy de ClassifierPerceptron : \",cl1.accuracy(Xtest,Ytest))\n",
    "print(\"Accuracy de ClassifierPerceptronBiais : \",cl2.accuracy(Xtest,Ytest))\n",
    "print(\"Accuracy de ClassifierPerceptronKernel : \",cl3.accuracy(Xtest,Ytest))\n",
    "#print(\"Accuracy Moyenne de ClassifierADALINE : \",cl4.accuracy(Xtest,Ytest))"
   ]
  },
  {
   "cell_type": "markdown",
   "metadata": {},
   "source": [
    "On applique maintenant les perceptrons sur \"Rating\""
   ]
  },
  {
   "cell_type": "code",
   "execution_count": 20,
   "metadata": {},
   "outputs": [],
   "source": [
    "data = pd.read_csv(\"GoogleApps/googleplaystoreCLEAN.csv\",encoding='utf-8')\n",
    "data=data.drop(\"Unnamed: 0\",axis=1)"
   ]
  },
  {
   "cell_type": "code",
   "execution_count": 21,
   "metadata": {},
   "outputs": [
    {
     "name": "stdout",
     "output_type": "stream",
     "text": [
      "Accuracy de ClassifierPerceptron :  0.6895756457564576\n",
      "Accuracy de ClassifierPerceptronBiais :  0.6305350553505535\n",
      "Accuracy de ClassifierPerceptronKernel :  0.5968634686346863\n",
      "Accuracy Moyenne de ClassifierADALINE :  0.5092250922509225\n",
      "[-0.07800000000000007, -0.15200000000000002, 0.0, 0.0, 0.0, 0.0, -0.001, 0.003, 0.0, 0.0, 0.0, 0.0, 0.0, 0.0, 0.001, 0.0, 0.0, -0.002, 0.0, 0.0, 0.0, 0.003, 0.0, 0.0, 0.0, 0.0, 0.0, 0.0, 0.0, 0.0, 0.0, 0.0, 0.0, 0.0, 0.0, 0.0, 0.004, 0.0, 0.0, 0.0, 0.0, 0.0, 0.0, 0.0, 0.004, 0.0, 0.0, 0.0, 0.0, 0.0, 0.0, 0.006, 0.0, 0.0, -0.002, 0.0]\n",
      "[-0.06499999999999992, -0.03300000000000014, 0.0, 0.0, 0.0, 0.0, -0.001, 0.0, 0.0, 0.0, 0.003, 0.0, 0.0, 0.0, -0.021, 0.014, 0.002, -0.001, 0.005, 0.0, 0.0, 0.0, 0.0, -0.026000000000000002, -0.002, 0.0, 0.0, 0.002, -0.001, 0.0, 0.005, 0.0, -0.031, 0.058, 0.0, 0.0, 0.003999999999999999, 0.0, 0.002, 0.0, 0.0, 0.0, -0.038000000000000006, 0.0, 0.045000000000000005, -0.001, 0.0, 0.0, 0.0, 0.0, 0.0, -0.002999999999999999, -0.001, 0.011, -0.001, 0.0]\n",
      "[-0.1390000000000015, 0.048999999999999794, 0.0, -0.005, 0.14300000000000002, -0.001, 0.091, 0.1, 0.048999999999999995, -0.010000000000000002, 0.07200000000000001, -0.004000000000000001, -0.008000000000000002, -0.005, -0.163, 0.084, 0.192, -0.159, -0.07999999999999999, 0.013000000000000001, 0.0, 0.024, 0.05600000000000001, 0.124, 0.031000000000000003, -0.027000000000000003, 0.009, 0.073, -0.007000000000000003, -0.121, 0.048, -0.062000000000000006, -0.023000000000000003, 0.03900000000000001, -0.05600000000000001, -0.002, 0.2940000000000002, -0.006, 0.04, 0.07100000000000001, 0.016, -0.005999999999999998, -0.052000000000000025, 0.012000000000000002, 0.39200000000000007, 0.044000000000000004, 0.0, 0.025, 0.0, 0.0, 0.0, 0.5010000000000001, -0.14100000000000001, 0.09000000000000002, -0.035, 0.0]\n",
      "[-1.1329999999999933, 0.12699999999998374, -0.245, 0.026000000000000002, -0.12100000000000001, -0.963, 4.308999999999999, 0.41400000000000015, 0.14400000000000002, 5.933000000000001, -1.7479999999999998, 0.15, 0.046000000000000006, -0.703, 3.717, 1.402, -0.065, 3.565, 1.7550000000000001, -0.031, 0.0, 0.21200000000000005, 0.023, -3.2190000000000003, -0.449, 0.007, -1.205, 1.3229999999999997, 0.724, 0.006999999999999998, -0.055999999999999994, 16.903000000000002, -7.7170000000000005, 0.08299999999999999, -12.918999999999999, -0.0059999999999999915, 13.25399999999999, -3.3960000000000004, 1.193, -0.029, 0.274, -0.09100000000000001, -2.2960000000000007, 0.311, 13.901999999999976, -0.6390000000000001, 0.11, 0.0, -0.001, 0.0, -0.245, 8.789000000000005, 0.555, -1.7290000000000003, 3.9150000000000005, 0.011]\n",
      "[0.008000000000000215, -2.2900000000000005, -0.01, 0.0, 0.0, 0.0, -0.013000000000000001, 0.005, 0.0, -0.026000000000000002, 0.003, 0.0, 0.0, 0.0, -0.030000000000000002, -0.076, 0.117, -0.009000000000000001, 0.001, 0.0, 0.0, 0.051000000000000004, -0.008, 0.045, 0.0, 0.0, 0.044, 0.0, 0.14900000000000002, 0.001, 0.0, -0.006, -0.02, -0.001, -0.002, 0.0, 0.19299999999999992, 0.028999999999999998, -0.007, 0.0, 0.0, -0.076, -0.030000000000000002, -0.022, 0.2819999999999999, 0.04, 0.0, 0.0, 0.021, 0.0, -0.01, 0.24399999999999988, -0.002, -0.006000000000000001, -0.011000000000000001, 0.0]\n"
     ]
    }
   ],
   "source": [
    "Y=np.array(data[\"Rating\"])\n",
    "data=data.drop(\"Installs\",axis=1)\n",
    "data=data.drop(\"Rating\",axis=1)\n",
    "X=np.array(data)\n",
    "\n",
    "nb_iteration=5\n",
    "input_dimension=56\n",
    "learning_rate=1\n",
    "classes=[1,2,3,4,5]\n",
    "\n",
    "Xapp,Yapp,Xtest,Ytest = ut.crossval_strat(X, Y, 5, 1)\n",
    "\n",
    "cl1=classif.ClassifierMultiOAA(classif.ClassifierPerceptron(input_dimension,learning_rate),classes)\n",
    "cl2=classif.ClassifierMultiOAA(classif.ClassifierPerceptronBiais(input_dimension,learning_rate),classes)\n",
    "kernel=classif.KernelBias(input_dimension,input_dimension+1)\n",
    "cl3=classif.ClassifierMultiOAA(classif.ClassifierPerceptronKernel(input_dimension,learning_rate,kernel),classes)\n",
    "cl4=classif.ClassifierMultiOAA(classif.ClassifierADALINE(input_dimension,0.001,1000),classes)\n",
    "\n",
    "cl1.train(Xapp,Yapp)\n",
    "cl2.train(Xapp,Yapp)\n",
    "cl3.train(Xapp,Yapp)\n",
    "cl4.train(Xapp,Yapp)\n",
    "\n",
    "print(\"Accuracy de ClassifierPerceptron : \",cl1.accuracy(Xtest,Ytest))\n",
    "print(\"Accuracy de ClassifierPerceptronBiais : \",cl2.accuracy(Xtest,Ytest))\n",
    "print(\"Accuracy de ClassifierPerceptronKernel : \",cl3.accuracy(Xtest,Ytest))\n",
    "print(\"Accuracy Moyenne de ClassifierADALINE : \",cl4.accuracy(Xtest,Ytest))\n",
    "for percep in cl4.perceptrons:\n",
    "    print(percep.w) "
   ]
  },
  {
   "cell_type": "markdown",
   "metadata": {},
   "source": [
    "## Partie 4 - Protocole expérimental"
   ]
  },
  {
   "cell_type": "markdown",
   "metadata": {},
   "source": [
    "Pour prédire le succès d'une app avec des perceptrons, on utilise différentes variantes de perceptrons afin de maximiser nos chances de succès. La taille des données est très grandes (plus de 100 000 descriptions d'apps), on n'éxecute donc pas plusieurs fois la méthodes \"train\" pour nos perceptrons pour le jeu de données d'apprentissage et on ne teste pas nos algorithmes avec plusieurs jeu de tests de données à cause du temps de calculs qui seraient de plusieurs heures (ainsi, le temps de calcul pour \"Install\" et \"Rating\" est d'une dizaine de minutes)"
   ]
  },
  {
   "cell_type": "markdown",
   "metadata": {},
   "source": [
    "## Partie 5 - Résultats"
   ]
  },
  {
   "cell_type": "markdown",
   "metadata": {},
   "source": [
    "On voit que les precisions des classifieurs sur le nombre d'installations sont assez faibles : environ 10% de prédictions correctes. En effet, le succès d'une application dépend d'autres paramètres plus subjectifs que la categorie, la taille, la version d'Android... de l'app. Mais les classifieurs arrivent avec une précision d'environ 60% quelles vont être les critiques d'une app!"
   ]
  },
  {
   "cell_type": "markdown",
   "metadata": {},
   "source": [
    "## Partie 6 - Analyse"
   ]
  },
  {
   "cell_type": "markdown",
   "metadata": {},
   "source": [
    "On a donc vu que nos algorithmes marchent plutôt bien pour prédire les \"Rating\" de l'app contrairement aux prédictions du nombre d'installations. On observe les vecteurs de poids du perceptron Adaline pour les perceptrons qui classifie les app avec les notes entre 4 et 5. \n",
    "\n",
    "On voit que les poids les plus grand et positifs (supérieurs à 4) sont sur les colonnes CategoryBOOKS_AND_REFERENCE, CategoryCOMMUNICATION,Content RatingEveryone,Android Ver4,Price1(qui correspond à une app gratuite), et CategorySPORTS. \n",
    "De plus il y a un poids négatifs important (environ -12) à la colonne CategoryVIDEO_PLAYERS.\n",
    "\n",
    "Les app qui ont des bonnes critiques sont donc souvent des app sur le thèmes des livre, du sport ou de la communication, qui sont gratuites et pour tout public."
   ]
  }
 ],
 "metadata": {
  "kernelspec": {
   "display_name": "Python 3",
   "language": "python",
   "name": "python3"
  },
  "language_info": {
   "codemirror_mode": {
    "name": "ipython",
    "version": 3
   },
   "file_extension": ".py",
   "mimetype": "text/x-python",
   "name": "python",
   "nbconvert_exporter": "python",
   "pygments_lexer": "ipython3",
   "version": "3.8.3"
  }
 },
 "nbformat": 4,
 "nbformat_minor": 1
}
