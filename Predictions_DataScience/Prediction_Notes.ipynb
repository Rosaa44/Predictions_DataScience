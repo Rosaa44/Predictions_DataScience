{
 "cells": [
  {
   "cell_type": "markdown",
   "metadata": {},
   "source": [
    "## Projet 2021"
   ]
  },
  {
   "cell_type": "markdown",
   "metadata": {},
   "source": [
    "### Préparation du notebook\n"
   ]
  },
  {
   "cell_type": "markdown",
   "metadata": {},
   "source": [
    "<font size=\"+1\" color=\"RED\">**[Q]**</font> **Indiquer dans la boîte ci-dessous vos noms et prénoms :**\n",
    "Antoine Toullalan,\n",
    "Rosa Mendas"
   ]
  },
  {
   "cell_type": "markdown",
   "metadata": {},
   "source": [
    "## Partie 1 - Description du problème"
   ]
  },
  {
   "cell_type": "markdown",
   "metadata": {},
   "source": [
    "On se positionne du côté developpeur de l'application. On souhaite déterminer la note qu'une application pourrait obtenir. A partir des données fournies, nous allons tenter de déterminer le rating d'une application. Pour ce faire, nous allons baser notre analyse sur une classification non supervisée, notamment grâce à la méthode Kmoyennes.\n"
   ]
  },
  {
   "cell_type": "markdown",
   "metadata": {},
   "source": [
    "## Partie 2 - Modèle"
   ]
  },
  {
   "cell_type": "markdown",
   "metadata": {},
   "source": [
    "On importe les données fournies dans GoogleApps puis on retire les colonnes non utilisées. \n",
    "On attribue des identifiants spécifiques à chacun des élements du Dataframe.\n",
    "L'idée finale serait d'avoir une fonction qui -avec quelques critères données en entrée- nous donnerait une fourchette  contenant la notation de l'application: on se positionne dans un des cluster formés.\n",
    "\n",
    "Afin de résoudre la problématique: \n",
    "On normalise l'ensemble des valeurs du df et on applique Kmoyennes au nouveau df normalisé.\n",
    "On construit un dictionnaire contenant l'ensemble des moyennes et écarts-types de chaque colonne pour chaque affectation.\n",
    "Enfin, on crée une fonction qui prend les caractéristiques de l'application en entrée, cherchera l'affectation qui lui convient le plus et retournera une notation suivie d'un écart-type.\n",
    "\n",
    "On prend pour hypothèse : \n",
    "Retourner une note en fonction du maximum de critères partagés, dans ce cas on ne regarde pas uniquement le fichier user reviews. \n"
   ]
  },
  {
   "cell_type": "markdown",
   "metadata": {},
   "source": [
    "## Partie 3 - Code Transformation"
   ]
  },
  {
   "cell_type": "code",
   "execution_count": 1,
   "metadata": {},
   "outputs": [],
   "source": [
    "import numpy as np\n",
    "import pandas as pd\n",
    "import matplotlib.pyplot as plt\n",
    "import math\n",
    "%matplotlib inline"
   ]
  },
  {
   "cell_type": "code",
   "execution_count": 2,
   "metadata": {},
   "outputs": [
    {
     "data": {
      "text/html": [
       "<div>\n",
       "<style scoped>\n",
       "    .dataframe tbody tr th:only-of-type {\n",
       "        vertical-align: middle;\n",
       "    }\n",
       "\n",
       "    .dataframe tbody tr th {\n",
       "        vertical-align: top;\n",
       "    }\n",
       "\n",
       "    .dataframe thead th {\n",
       "        text-align: right;\n",
       "    }\n",
       "</style>\n",
       "<table border=\"1\" class=\"dataframe\">\n",
       "  <thead>\n",
       "    <tr style=\"text-align: right;\">\n",
       "      <th></th>\n",
       "      <th>App</th>\n",
       "      <th>Translated_Review</th>\n",
       "      <th>Sentiment</th>\n",
       "      <th>Sentiment_Polarity</th>\n",
       "      <th>Sentiment_Subjectivity</th>\n",
       "    </tr>\n",
       "  </thead>\n",
       "  <tbody>\n",
       "    <tr>\n",
       "      <th>0</th>\n",
       "      <td>10 Best Foods for You</td>\n",
       "      <td>I like eat delicious food. That's I'm cooking ...</td>\n",
       "      <td>Positive</td>\n",
       "      <td>1</td>\n",
       "      <td>0.533333</td>\n",
       "    </tr>\n",
       "    <tr>\n",
       "      <th>1</th>\n",
       "      <td>10 Best Foods for You</td>\n",
       "      <td>This help eating healthy exercise regular basis</td>\n",
       "      <td>Positive</td>\n",
       "      <td>0.25</td>\n",
       "      <td>0.288462</td>\n",
       "    </tr>\n",
       "    <tr>\n",
       "      <th>2</th>\n",
       "      <td>10 Best Foods for You</td>\n",
       "      <td>Empty</td>\n",
       "      <td>Empty</td>\n",
       "      <td>Empty</td>\n",
       "      <td>Empty</td>\n",
       "    </tr>\n",
       "    <tr>\n",
       "      <th>3</th>\n",
       "      <td>10 Best Foods for You</td>\n",
       "      <td>Works great especially going grocery store</td>\n",
       "      <td>Positive</td>\n",
       "      <td>0.4</td>\n",
       "      <td>0.875</td>\n",
       "    </tr>\n",
       "    <tr>\n",
       "      <th>4</th>\n",
       "      <td>10 Best Foods for You</td>\n",
       "      <td>Best idea us</td>\n",
       "      <td>Positive</td>\n",
       "      <td>1</td>\n",
       "      <td>0.3</td>\n",
       "    </tr>\n",
       "  </tbody>\n",
       "</table>\n",
       "</div>"
      ],
      "text/plain": [
       "                     App                                  Translated_Review  \\\n",
       "0  10 Best Foods for You  I like eat delicious food. That's I'm cooking ...   \n",
       "1  10 Best Foods for You    This help eating healthy exercise regular basis   \n",
       "2  10 Best Foods for You                                              Empty   \n",
       "3  10 Best Foods for You         Works great especially going grocery store   \n",
       "4  10 Best Foods for You                                       Best idea us   \n",
       "\n",
       "  Sentiment Sentiment_Polarity Sentiment_Subjectivity  \n",
       "0  Positive                  1               0.533333  \n",
       "1  Positive               0.25               0.288462  \n",
       "2     Empty              Empty                  Empty  \n",
       "3  Positive                0.4                  0.875  \n",
       "4  Positive                  1                    0.3  "
      ]
     },
     "execution_count": 2,
     "metadata": {},
     "output_type": "execute_result"
    }
   ],
   "source": [
    "import sys\n",
    "sys.path.append('../')  \n",
    "data1 = pd.read_csv(\"GoogleApps/googleplaystore_user_reviews.csv\",encoding='utf-8')\n",
    "data=data1.fillna(\"Empty\")\n",
    "data.head()"
   ]
  },
  {
   "cell_type": "code",
   "execution_count": 3,
   "metadata": {},
   "outputs": [
    {
     "name": "stdout",
     "output_type": "stream",
     "text": [
      "(64295, 5)\n",
      "(37432, 4)\n"
     ]
    },
    {
     "data": {
      "text/html": [
       "<div>\n",
       "<style scoped>\n",
       "    .dataframe tbody tr th:only-of-type {\n",
       "        vertical-align: middle;\n",
       "    }\n",
       "\n",
       "    .dataframe tbody tr th {\n",
       "        vertical-align: top;\n",
       "    }\n",
       "\n",
       "    .dataframe thead th {\n",
       "        text-align: right;\n",
       "    }\n",
       "</style>\n",
       "<table border=\"1\" class=\"dataframe\">\n",
       "  <thead>\n",
       "    <tr style=\"text-align: right;\">\n",
       "      <th></th>\n",
       "      <th>App</th>\n",
       "      <th>Sentiment</th>\n",
       "      <th>Sentiment_Polarity</th>\n",
       "      <th>Sentiment_Subjectivity</th>\n",
       "    </tr>\n",
       "  </thead>\n",
       "  <tbody>\n",
       "    <tr>\n",
       "      <th>0</th>\n",
       "      <td>10 Best Foods for You</td>\n",
       "      <td>Positive</td>\n",
       "      <td>1</td>\n",
       "      <td>0.533333</td>\n",
       "    </tr>\n",
       "    <tr>\n",
       "      <th>1</th>\n",
       "      <td>10 Best Foods for You</td>\n",
       "      <td>Positive</td>\n",
       "      <td>0.25</td>\n",
       "      <td>0.288462</td>\n",
       "    </tr>\n",
       "    <tr>\n",
       "      <th>3</th>\n",
       "      <td>10 Best Foods for You</td>\n",
       "      <td>Positive</td>\n",
       "      <td>0.4</td>\n",
       "      <td>0.875</td>\n",
       "    </tr>\n",
       "    <tr>\n",
       "      <th>4</th>\n",
       "      <td>10 Best Foods for You</td>\n",
       "      <td>Positive</td>\n",
       "      <td>1</td>\n",
       "      <td>0.3</td>\n",
       "    </tr>\n",
       "    <tr>\n",
       "      <th>5</th>\n",
       "      <td>10 Best Foods for You</td>\n",
       "      <td>Positive</td>\n",
       "      <td>1</td>\n",
       "      <td>0.3</td>\n",
       "    </tr>\n",
       "  </tbody>\n",
       "</table>\n",
       "</div>"
      ],
      "text/plain": [
       "                     App Sentiment Sentiment_Polarity Sentiment_Subjectivity\n",
       "0  10 Best Foods for You  Positive                  1               0.533333\n",
       "1  10 Best Foods for You  Positive               0.25               0.288462\n",
       "3  10 Best Foods for You  Positive                0.4                  0.875\n",
       "4  10 Best Foods for You  Positive                  1                    0.3\n",
       "5  10 Best Foods for You  Positive                  1                    0.3"
      ]
     },
     "execution_count": 3,
     "metadata": {},
     "output_type": "execute_result"
    }
   ],
   "source": [
    "\n",
    "print(data.shape)\n",
    "data.drop(data.loc[data['Sentiment']==\"Empty\"].index, inplace=True)\n",
    "data=data.drop('Translated_Review', axis=1)\n",
    "print(data.shape)\n",
    "data.head()"
   ]
  },
  {
   "cell_type": "code",
   "execution_count": 4,
   "metadata": {},
   "outputs": [],
   "source": [
    "#Quelques fonctions pour rendre le df plus lisible\n",
    "\n",
    "def categorisationS(var):\n",
    "    if var == 'Positive':\n",
    "        return 2\n",
    "    if var == 'Negative':\n",
    "        return 1\n",
    "    return -1\n",
    "\n",
    "x = min(data['Sentiment_Polarity'])\n",
    "def categorisationSP(var):\n",
    "    return float(var)-x+1\n",
    "y = min(data['Sentiment_Subjectivity'])\n",
    "def categorisationRev(var):\n",
    "    return int(var)-y+1\n",
    "\n",
    "def categorisationSS(var):\n",
    "    return float(var)\n"
   ]
  },
  {
   "cell_type": "code",
   "execution_count": 5,
   "metadata": {},
   "outputs": [
    {
     "name": "stdout",
     "output_type": "stream",
     "text": [
      "(37432, 4)\n",
      "(32269, 4)\n"
     ]
    }
   ],
   "source": [
    "new_S=data[\"Sentiment\"].apply(categorisationS)\n",
    "data[\"Sentiment\"]=new_S.values\n",
    "\n",
    "new_SP=data[\"Sentiment_Polarity\"].apply(categorisationSP)\n",
    "data[\"Sentiment_Polarity\"]=new_SP.values\n",
    "\n",
    "new_ss=data[\"Sentiment_Subjectivity\"].apply(categorisationSS)\n",
    "data[\"Sentiment_Subjectivity\"]=new_ss.values\n",
    "\n",
    "print(data.shape)\n",
    "data.drop(data.loc[data['Sentiment']==-1].index, inplace=True)\n",
    "print(data.shape)"
   ]
  },
  {
   "cell_type": "code",
   "execution_count": 6,
   "metadata": {},
   "outputs": [
    {
     "data": {
      "text/html": [
       "<div>\n",
       "<style scoped>\n",
       "    .dataframe tbody tr th:only-of-type {\n",
       "        vertical-align: middle;\n",
       "    }\n",
       "\n",
       "    .dataframe tbody tr th {\n",
       "        vertical-align: top;\n",
       "    }\n",
       "\n",
       "    .dataframe thead th {\n",
       "        text-align: right;\n",
       "    }\n",
       "</style>\n",
       "<table border=\"1\" class=\"dataframe\">\n",
       "  <thead>\n",
       "    <tr style=\"text-align: right;\">\n",
       "      <th></th>\n",
       "      <th>App</th>\n",
       "      <th>Rating</th>\n",
       "      <th>Reviews</th>\n",
       "    </tr>\n",
       "  </thead>\n",
       "  <tbody>\n",
       "    <tr>\n",
       "      <th>0</th>\n",
       "      <td>Photo Editor &amp; Candy Camera &amp; Grid &amp; ScrapBook</td>\n",
       "      <td>4.1</td>\n",
       "      <td>160.0</td>\n",
       "    </tr>\n",
       "    <tr>\n",
       "      <th>1</th>\n",
       "      <td>Coloring book moana</td>\n",
       "      <td>3.9</td>\n",
       "      <td>968.0</td>\n",
       "    </tr>\n",
       "    <tr>\n",
       "      <th>2</th>\n",
       "      <td>U Launcher Lite – FREE Live Cool Themes, Hide ...</td>\n",
       "      <td>4.7</td>\n",
       "      <td>87511.0</td>\n",
       "    </tr>\n",
       "    <tr>\n",
       "      <th>3</th>\n",
       "      <td>Sketch - Draw &amp; Paint</td>\n",
       "      <td>4.5</td>\n",
       "      <td>215645.0</td>\n",
       "    </tr>\n",
       "    <tr>\n",
       "      <th>4</th>\n",
       "      <td>Pixel Draw - Number Art Coloring Book</td>\n",
       "      <td>4.3</td>\n",
       "      <td>968.0</td>\n",
       "    </tr>\n",
       "  </tbody>\n",
       "</table>\n",
       "</div>"
      ],
      "text/plain": [
       "                                                 App  Rating   Reviews\n",
       "0     Photo Editor & Candy Camera & Grid & ScrapBook     4.1     160.0\n",
       "1                                Coloring book moana     3.9     968.0\n",
       "2  U Launcher Lite – FREE Live Cool Themes, Hide ...     4.7   87511.0\n",
       "3                              Sketch - Draw & Paint     4.5  215645.0\n",
       "4              Pixel Draw - Number Art Coloring Book     4.3     968.0"
      ]
     },
     "execution_count": 6,
     "metadata": {},
     "output_type": "execute_result"
    }
   ],
   "source": [
    "docu1 = pd.read_csv(\"GoogleApps/googleplaystore.csv\",encoding='utf-8')\n",
    "colonnesAEliminer=[\"Genres\",\"Type\",\"Installs\",\"Android Ver\",\"Last Updated\",'Content Rating','Category','Size','Price','Current Ver']\n",
    "docu=docu1.drop(colonnesAEliminer, axis=1)\n",
    "docu.drop(docu.loc[docu['Reviews']=='3.0M'].index, inplace=True)\n",
    "new_rev=docu[\"Reviews\"].apply(categorisationRev)\n",
    "docu[\"Reviews\"]=new_rev.values\n",
    "docu.head()"
   ]
  },
  {
   "cell_type": "code",
   "execution_count": 7,
   "metadata": {},
   "outputs": [
    {
     "name": "stdout",
     "output_type": "stream",
     "text": [
      "863\n",
      "9659\n",
      "814\n"
     ]
    }
   ],
   "source": [
    "l1 = np.unique(data[\"App\"].values).tolist()\n",
    "print(len(l1))\n",
    "l2 = np.unique(docu[\"App\"].values).tolist()\n",
    "print(len(l2))\n",
    "intersection = [x for x in l1 if x in l2]\n",
    "print(len(intersection))"
   ]
  },
  {
   "cell_type": "code",
   "execution_count": 8,
   "metadata": {},
   "outputs": [
    {
     "data": {
      "text/html": [
       "<div>\n",
       "<style scoped>\n",
       "    .dataframe tbody tr th:only-of-type {\n",
       "        vertical-align: middle;\n",
       "    }\n",
       "\n",
       "    .dataframe tbody tr th {\n",
       "        vertical-align: top;\n",
       "    }\n",
       "\n",
       "    .dataframe thead th {\n",
       "        text-align: right;\n",
       "    }\n",
       "</style>\n",
       "<table border=\"1\" class=\"dataframe\">\n",
       "  <thead>\n",
       "    <tr style=\"text-align: right;\">\n",
       "      <th></th>\n",
       "      <th>Sentiment</th>\n",
       "      <th>Sentiment_Polarity</th>\n",
       "      <th>Sentiment_Subjectivity</th>\n",
       "      <th>Rating</th>\n",
       "      <th>Reviews</th>\n",
       "    </tr>\n",
       "    <tr>\n",
       "      <th>App</th>\n",
       "      <th></th>\n",
       "      <th></th>\n",
       "      <th></th>\n",
       "      <th></th>\n",
       "      <th></th>\n",
       "    </tr>\n",
       "  </thead>\n",
       "  <tbody>\n",
       "    <tr>\n",
       "      <th>10 Best Foods for You</th>\n",
       "      <td>1.941860</td>\n",
       "      <td>2.530943</td>\n",
       "      <td>0.558827</td>\n",
       "      <td>4.0</td>\n",
       "      <td>2491.0</td>\n",
       "    </tr>\n",
       "    <tr>\n",
       "      <th>11st</th>\n",
       "      <td>1.766667</td>\n",
       "      <td>2.241726</td>\n",
       "      <td>0.547498</td>\n",
       "      <td>3.8</td>\n",
       "      <td>48733.0</td>\n",
       "    </tr>\n",
       "    <tr>\n",
       "      <th>1800 Contacts - Lens Store</th>\n",
       "      <td>1.914286</td>\n",
       "      <td>2.363594</td>\n",
       "      <td>0.665337</td>\n",
       "      <td>4.7</td>\n",
       "      <td>23161.0</td>\n",
       "    </tr>\n",
       "    <tr>\n",
       "      <th>1LINE – One Line with One Touch</th>\n",
       "      <td>1.771429</td>\n",
       "      <td>2.213115</td>\n",
       "      <td>0.605085</td>\n",
       "      <td>4.6</td>\n",
       "      <td>214879.0</td>\n",
       "    </tr>\n",
       "    <tr>\n",
       "      <th>2018Emoji Keyboard 😂 Emoticons Lite -sticker&amp;gif</th>\n",
       "      <td>1.961538</td>\n",
       "      <td>2.553312</td>\n",
       "      <td>0.626603</td>\n",
       "      <td>4.2</td>\n",
       "      <td>115774.0</td>\n",
       "    </tr>\n",
       "    <tr>\n",
       "      <th>...</th>\n",
       "      <td>...</td>\n",
       "      <td>...</td>\n",
       "      <td>...</td>\n",
       "      <td>...</td>\n",
       "      <td>...</td>\n",
       "    </tr>\n",
       "    <tr>\n",
       "      <th>Hotels.com: Book Hotel Rooms &amp; Find Vacation Deals</th>\n",
       "      <td>1.650000</td>\n",
       "      <td>2.115172</td>\n",
       "      <td>0.591087</td>\n",
       "      <td>4.5</td>\n",
       "      <td>260128.0</td>\n",
       "    </tr>\n",
       "    <tr>\n",
       "      <th>Hotspot Shield Free VPN Proxy &amp; Wi-Fi Security</th>\n",
       "      <td>1.850000</td>\n",
       "      <td>2.428000</td>\n",
       "      <td>0.668583</td>\n",
       "      <td>4.2</td>\n",
       "      <td>1116394.0</td>\n",
       "    </tr>\n",
       "    <tr>\n",
       "      <th>Hotstar</th>\n",
       "      <td>1.500000</td>\n",
       "      <td>2.043632</td>\n",
       "      <td>0.544888</td>\n",
       "      <td>4.3</td>\n",
       "      <td>4885647.0</td>\n",
       "    </tr>\n",
       "    <tr>\n",
       "      <th>Hotwire Hotel &amp; Car Rental App</th>\n",
       "      <td>1.727273</td>\n",
       "      <td>2.280544</td>\n",
       "      <td>0.608326</td>\n",
       "      <td>4.3</td>\n",
       "      <td>10324.0</td>\n",
       "    </tr>\n",
       "    <tr>\n",
       "      <th>Housing-Real Estate &amp; Property</th>\n",
       "      <td>1.444444</td>\n",
       "      <td>1.975002</td>\n",
       "      <td>0.441620</td>\n",
       "      <td>4.1</td>\n",
       "      <td>28302.0</td>\n",
       "    </tr>\n",
       "  </tbody>\n",
       "</table>\n",
       "<p>814 rows × 5 columns</p>\n",
       "</div>"
      ],
      "text/plain": [
       "                                                    Sentiment  \\\n",
       "App                                                             \n",
       "10 Best Foods for You                                1.941860   \n",
       "11st                                                 1.766667   \n",
       "1800 Contacts - Lens Store                           1.914286   \n",
       "1LINE – One Line with One Touch                      1.771429   \n",
       "2018Emoji Keyboard 😂 Emoticons Lite -sticker&gif     1.961538   \n",
       "...                                                       ...   \n",
       "Hotels.com: Book Hotel Rooms & Find Vacation Deals   1.650000   \n",
       "Hotspot Shield Free VPN Proxy & Wi-Fi Security       1.850000   \n",
       "Hotstar                                              1.500000   \n",
       "Hotwire Hotel & Car Rental App                       1.727273   \n",
       "Housing-Real Estate & Property                       1.444444   \n",
       "\n",
       "                                                    Sentiment_Polarity  \\\n",
       "App                                                                      \n",
       "10 Best Foods for You                                         2.530943   \n",
       "11st                                                          2.241726   \n",
       "1800 Contacts - Lens Store                                    2.363594   \n",
       "1LINE – One Line with One Touch                               2.213115   \n",
       "2018Emoji Keyboard 😂 Emoticons Lite -sticker&gif              2.553312   \n",
       "...                                                                ...   \n",
       "Hotels.com: Book Hotel Rooms & Find Vacation Deals            2.115172   \n",
       "Hotspot Shield Free VPN Proxy & Wi-Fi Security                2.428000   \n",
       "Hotstar                                                       2.043632   \n",
       "Hotwire Hotel & Car Rental App                                2.280544   \n",
       "Housing-Real Estate & Property                                1.975002   \n",
       "\n",
       "                                                    Sentiment_Subjectivity  \\\n",
       "App                                                                          \n",
       "10 Best Foods for You                                             0.558827   \n",
       "11st                                                              0.547498   \n",
       "1800 Contacts - Lens Store                                        0.665337   \n",
       "1LINE – One Line with One Touch                                   0.605085   \n",
       "2018Emoji Keyboard 😂 Emoticons Lite -sticker&gif                  0.626603   \n",
       "...                                                                    ...   \n",
       "Hotels.com: Book Hotel Rooms & Find Vacation Deals                0.591087   \n",
       "Hotspot Shield Free VPN Proxy & Wi-Fi Security                    0.668583   \n",
       "Hotstar                                                           0.544888   \n",
       "Hotwire Hotel & Car Rental App                                    0.608326   \n",
       "Housing-Real Estate & Property                                    0.441620   \n",
       "\n",
       "                                                    Rating    Reviews  \n",
       "App                                                                    \n",
       "10 Best Foods for You                                  4.0     2491.0  \n",
       "11st                                                   3.8    48733.0  \n",
       "1800 Contacts - Lens Store                             4.7    23161.0  \n",
       "1LINE – One Line with One Touch                        4.6   214879.0  \n",
       "2018Emoji Keyboard 😂 Emoticons Lite -sticker&gif       4.2   115774.0  \n",
       "...                                                    ...        ...  \n",
       "Hotels.com: Book Hotel Rooms & Find Vacation Deals     4.5   260128.0  \n",
       "Hotspot Shield Free VPN Proxy & Wi-Fi Security         4.2  1116394.0  \n",
       "Hotstar                                                4.3  4885647.0  \n",
       "Hotwire Hotel & Car Rental App                         4.3    10324.0  \n",
       "Housing-Real Estate & Property                         4.1    28302.0  \n",
       "\n",
       "[814 rows x 5 columns]"
      ]
     },
     "execution_count": 8,
     "metadata": {},
     "output_type": "execute_result"
    }
   ],
   "source": [
    "df = pd.merge(data,docu)\n",
    "df = df.groupby(\"App\").mean()\n",
    "df"
   ]
  },
  {
   "cell_type": "code",
   "execution_count": 9,
   "metadata": {},
   "outputs": [
    {
     "data": {
      "image/png": "[encoded data removed]",
      "text/plain": [
       "<Figure size 1800x1800 with 1 Axes>"
      ]
     },
     "metadata": {
      "needs_background": "light"
     },
     "output_type": "display_data"
    }
   ],
   "source": [
    "X = np.array(np.sort(df[\"Rating\"]))\n",
    "Y = np.array(df[\"Reviews\"])\n",
    "figure = plt.figure(figsize = (25, 25))\n",
    "plt.gcf().subplots_adjust(left = 0, bottom = 0.1,right = 0.5, top = 0.9, wspace = 0, hspace = 1)\n",
    "axes = figure.add_subplot(2, 1, 1)\n",
    "axes.scatter(X,Y)\n",
    "plt.show()"
   ]
  },
  {
   "cell_type": "code",
   "execution_count": 10,
   "metadata": {},
   "outputs": [
    {
     "data": {
      "image/png": "[encoded data removed]",
      "text/plain": [
       "<Figure size 1800x1800 with 1 Axes>"
      ]
     },
     "metadata": {
      "needs_background": "light"
     },
     "output_type": "display_data"
    }
   ],
   "source": [
    "X = np.array(np.sort(df[\"Rating\"]))\n",
    "Y = np.array(df[\"Sentiment_Subjectivity\"])\n",
    "figure = plt.figure(figsize = (25, 25))\n",
    "plt.gcf().subplots_adjust(left = 0, bottom = 0.1,right = 0.5, top = 0.9, wspace = 0, hspace = 1)\n",
    "axes = figure.add_subplot(2, 1, 1)\n",
    "axes.scatter(X,Y)\n",
    "plt.show()"
   ]
  },
  {
   "cell_type": "code",
   "execution_count": 11,
   "metadata": {},
   "outputs": [
    {
     "data": {
      "image/png": "[encoded data removed]",
      "text/plain": [
       "<Figure size 1800x1800 with 1 Axes>"
      ]
     },
     "metadata": {
      "needs_background": "light"
     },
     "output_type": "display_data"
    }
   ],
   "source": [
    "X = np.array(np.sort(df[\"Rating\"]))\n",
    "Y = np.array(df[\"Sentiment_Polarity\"])\n",
    "figure = plt.figure(figsize = (25, 25))\n",
    "plt.gcf().subplots_adjust(left = 0, bottom = 0.1,right = 0.5, top = 0.9, wspace = 0, hspace = 1)\n",
    "axes = figure.add_subplot(2, 1, 1)\n",
    "axes.scatter(X,Y)\n",
    "plt.show()"
   ]
  },
  {
   "cell_type": "code",
   "execution_count": 12,
   "metadata": {},
   "outputs": [
    {
     "data": {
      "image/png": "[encoded data removed]",
      "text/plain": [
       "<Figure size 1800x1800 with 1 Axes>"
      ]
     },
     "metadata": {
      "needs_background": "light"
     },
     "output_type": "display_data"
    }
   ],
   "source": [
    "X = np.array(np.sort(df[\"Rating\"]))\n",
    "Y = np.array(df[\"Sentiment\"])\n",
    "figure = plt.figure(figsize = (25, 25))\n",
    "plt.gcf().subplots_adjust(left = 0, bottom = 0.1,right = 0.5, top = 0.9, wspace = 0, hspace = 1)\n",
    "axes = figure.add_subplot(2, 1, 1)\n",
    "axes.scatter(X,Y)\n",
    "plt.show()"
   ]
  },
  {
   "cell_type": "code",
   "execution_count": 13,
   "metadata": {},
   "outputs": [
    {
     "data": {
      "text/html": [
       "<div>\n",
       "<style scoped>\n",
       "    .dataframe tbody tr th:only-of-type {\n",
       "        vertical-align: middle;\n",
       "    }\n",
       "\n",
       "    .dataframe tbody tr th {\n",
       "        vertical-align: top;\n",
       "    }\n",
       "\n",
       "    .dataframe thead th {\n",
       "        text-align: right;\n",
       "    }\n",
       "</style>\n",
       "<table border=\"1\" class=\"dataframe\">\n",
       "  <thead>\n",
       "    <tr style=\"text-align: right;\">\n",
       "      <th></th>\n",
       "      <th>Sentiment</th>\n",
       "      <th>Sentiment_Polarity</th>\n",
       "      <th>Sentiment_Subjectivity</th>\n",
       "      <th>Rating</th>\n",
       "    </tr>\n",
       "    <tr>\n",
       "      <th>App</th>\n",
       "      <th></th>\n",
       "      <th></th>\n",
       "      <th></th>\n",
       "      <th></th>\n",
       "    </tr>\n",
       "  </thead>\n",
       "  <tbody>\n",
       "    <tr>\n",
       "      <th>10 Best Foods for You</th>\n",
       "      <td>1.941860</td>\n",
       "      <td>2.530943</td>\n",
       "      <td>0.558827</td>\n",
       "      <td>4.0</td>\n",
       "    </tr>\n",
       "    <tr>\n",
       "      <th>11st</th>\n",
       "      <td>1.766667</td>\n",
       "      <td>2.241726</td>\n",
       "      <td>0.547498</td>\n",
       "      <td>3.8</td>\n",
       "    </tr>\n",
       "    <tr>\n",
       "      <th>1800 Contacts - Lens Store</th>\n",
       "      <td>1.914286</td>\n",
       "      <td>2.363594</td>\n",
       "      <td>0.665337</td>\n",
       "      <td>4.7</td>\n",
       "    </tr>\n",
       "    <tr>\n",
       "      <th>1LINE – One Line with One Touch</th>\n",
       "      <td>1.771429</td>\n",
       "      <td>2.213115</td>\n",
       "      <td>0.605085</td>\n",
       "      <td>4.6</td>\n",
       "    </tr>\n",
       "    <tr>\n",
       "      <th>2018Emoji Keyboard 😂 Emoticons Lite -sticker&amp;gif</th>\n",
       "      <td>1.961538</td>\n",
       "      <td>2.553312</td>\n",
       "      <td>0.626603</td>\n",
       "      <td>4.2</td>\n",
       "    </tr>\n",
       "  </tbody>\n",
       "</table>\n",
       "</div>"
      ],
      "text/plain": [
       "                                                  Sentiment  \\\n",
       "App                                                           \n",
       "10 Best Foods for You                              1.941860   \n",
       "11st                                               1.766667   \n",
       "1800 Contacts - Lens Store                         1.914286   \n",
       "1LINE – One Line with One Touch                    1.771429   \n",
       "2018Emoji Keyboard 😂 Emoticons Lite -sticker&gif   1.961538   \n",
       "\n",
       "                                                  Sentiment_Polarity  \\\n",
       "App                                                                    \n",
       "10 Best Foods for You                                       2.530943   \n",
       "11st                                                        2.241726   \n",
       "1800 Contacts - Lens Store                                  2.363594   \n",
       "1LINE – One Line with One Touch                             2.213115   \n",
       "2018Emoji Keyboard 😂 Emoticons Lite -sticker&gif            2.553312   \n",
       "\n",
       "                                                  Sentiment_Subjectivity  \\\n",
       "App                                                                        \n",
       "10 Best Foods for You                                           0.558827   \n",
       "11st                                                            0.547498   \n",
       "1800 Contacts - Lens Store                                      0.665337   \n",
       "1LINE – One Line with One Touch                                 0.605085   \n",
       "2018Emoji Keyboard 😂 Emoticons Lite -sticker&gif                0.626603   \n",
       "\n",
       "                                                  Rating  \n",
       "App                                                       \n",
       "10 Best Foods for You                                4.0  \n",
       "11st                                                 3.8  \n",
       "1800 Contacts - Lens Store                           4.7  \n",
       "1LINE – One Line with One Touch                      4.6  \n",
       "2018Emoji Keyboard 😂 Emoticons Lite -sticker&gif     4.2  "
      ]
     },
     "execution_count": 13,
     "metadata": {},
     "output_type": "execute_result"
    }
   ],
   "source": [
    "colonnesAEliminer=[\"Reviews\"]\n",
    "df=df.drop(colonnesAEliminer, axis=1)\n",
    "df.head()"
   ]
  },
  {
   "cell_type": "markdown",
   "metadata": {},
   "source": [
    "## Partie 3 - Code Problématique"
   ]
  },
  {
   "cell_type": "code",
   "execution_count": 14,
   "metadata": {},
   "outputs": [],
   "source": [
    "import numpy as np\n",
    "import pandas as pd\n",
    "import matplotlib.pyplot as plt\n",
    "import math\n",
    "from statistics import mean\n",
    "%matplotlib inline\n",
    "\n",
    "import sys\n",
    "sys.path.append('../')  \n",
    "\n",
    "import iads as iads\n",
    "\n",
    "# importation de Classifiers\n",
    "from iads import Classifiers as classif\n",
    "\n",
    "# importation de utils\n",
    "from iads import utils as ut\n"
   ]
  },
  {
   "cell_type": "code",
   "execution_count": 15,
   "metadata": {},
   "outputs": [],
   "source": [
    "def most_common(lst):\n",
    "    #Retourne l'élement le plus présent dans la liste\n",
    "    if lst == []:\n",
    "        print(\"augmentez taille du cluster\")\n",
    "        return -1\n",
    "    return max(set(lst), key=lst.count)\n",
    "\n",
    "def retour_prix(df, S,SP, SS):\n",
    "    #Retourne en fonction des paramètres l'indice de df contenant des valeurs proches de celles des \n",
    "    #caractéristiques recherchées\n",
    "    liste = {}\n",
    "    for i in range(3):\n",
    "        liste[i]=[]\n",
    "        \n",
    "    for i in df:\n",
    "        moy=df[i][0]\n",
    "        ec = df[i][1]\n",
    "        #si élément compris entre moyenne et écart-type\n",
    "        if S <= moy[0]+ec[0] and S >= moy[0]-ec[0]:\n",
    "            liste[0].append(i)\n",
    "        if SP <= moy[1]+ec[1] and SP >= moy[1]-ec[1]:\n",
    "            liste[1].append(i)\n",
    "        if SS <= moy[2]+ec[2] and SS >= moy[2]-ec[2]:\n",
    "            liste[2].append(i)\n",
    "            \n",
    "    L = []\n",
    "    for i in range(3):\n",
    "        L+=liste[i]\n",
    "    return most_common(L) #on retourne le cluster ayant un max de points communs avec les param en entrée\n",
    "    "
   ]
  },
  {
   "cell_type": "markdown",
   "metadata": {},
   "source": [
    "## Partie 4 - Protocole expérimental"
   ]
  },
  {
   "cell_type": "markdown",
   "metadata": {},
   "source": [
    "Dans cette partie, on tente de vérifier que notre code et raisonnement sont bons. Par la suite, on tente de déterminer une future note et voir sa cohérence."
   ]
  },
  {
   "cell_type": "code",
   "execution_count": 16,
   "metadata": {},
   "outputs": [
    {
     "data": {
      "text/plain": [
       "<matplotlib.collections.PathCollection at 0x7f31de2b9e80>"
      ]
     },
     "execution_count": 16,
     "metadata": {},
     "output_type": "execute_result"
    },
    {
     "data": {
      "image/png": "[encoded data removed]",
      "text/plain": [
       "<Figure size 432x288 with 1 Axes>"
      ]
     },
     "metadata": {
      "needs_background": "light"
     },
     "output_type": "display_data"
    }
   ],
   "source": [
    "colonnes = df.columns\n",
    "data_desc1 = np.array(df[colonnes])\n",
    "data_desc1 = ut.normalisation(data_desc1)\n",
    "plt.scatter(data_desc1[:,0],data_desc1[:,1])"
   ]
  },
  {
   "cell_type": "code",
   "execution_count": 17,
   "metadata": {},
   "outputs": [
    {
     "name": "stdout",
     "output_type": "stream",
     "text": [
      "190\n"
     ]
    }
   ],
   "source": [
    "listeR = np.unique(df[\"Rating\"].values).tolist()\n",
    "print(len(listeR))"
   ]
  },
  {
   "cell_type": "markdown",
   "metadata": {},
   "source": [
    "Pour la suite du problème on fixe K à 10.\n",
    "On tente de vérifier que les prix prédis sont cohérents comparés aux prix actuels des applications."
   ]
  },
  {
   "cell_type": "code",
   "execution_count": 23,
   "metadata": {
    "scrolled": true
   },
   "outputs": [
    {
     "name": "stdout",
     "output_type": "stream",
     "text": [
      "Fini\n"
     ]
    },
    {
     "data": {
      "image/png": "[encoded data removed]",
      "text/plain": [
       "<Figure size 432x288 with 1 Axes>"
      ]
     },
     "metadata": {
      "needs_background": "light"
     },
     "output_type": "display_data"
    }
   ],
   "source": [
    "K=35\n",
    "centres1,affectation1 = ut.kmoyennes(K, data_desc1, 0.05, 100)\n",
    "ut.affiche_resultat(data_desc1,centres1,affectation1,K)\n"
   ]
  },
  {
   "cell_type": "code",
   "execution_count": 24,
   "metadata": {},
   "outputs": [],
   "source": [
    "columns=df.columns\n",
    "liste1 = {}\n",
    "for c in affectation1:\n",
    "    tab = (df[columns].iloc[affectation1[int(c)]]).agg([\"mean\", \"std\"])\n",
    "    #Moyenne et Ecart-Type\n",
    "    liste1[int(c)] = tab.values"
   ]
  },
  {
   "cell_type": "code",
   "execution_count": 25,
   "metadata": {},
   "outputs": [
    {
     "name": "stdout",
     "output_type": "stream",
     "text": [
      "On teste 10 Best Foods for You, rating = 4.0\n",
      "\n",
      "Rating de base du cluster:  4.03\n",
      "Avec un écart-type de:  0.12\n"
     ]
    }
   ],
   "source": [
    "###ICI ON FAIT NOTRE DEMANDE:\n",
    "#Veuillez indiquer selon ce tableau, les caractéristiques de votre application\n",
    "print(\"On teste 10 Best Foods for You, rating = 4.0\")\n",
    "SP = categorisationSP(\"0.3\")\n",
    "SS = categorisationSS(\"1.0\")\n",
    "S = categorisationS(\"Positive\")\n",
    "\n",
    "categ1 = retour_prix(liste1,S,SP,SS)\n",
    "ecart = liste1[categ1][1][3]\n",
    "rating = liste1[categ1][0][3]\n",
    "print(\"\\nRating de base du cluster: \",round(rating,2))\n",
    "print(\"Avec un écart-type de: \",round(ecart,2))"
   ]
  },
  {
   "cell_type": "code",
   "execution_count": 26,
   "metadata": {},
   "outputs": [
    {
     "name": "stdout",
     "output_type": "stream",
     "text": [
      "On teste 1800 Contacts - Lens Store, rating = 4.7\n",
      "\n",
      "Rating de base du cluster:  4.4\n",
      "Avec un écart-type de:  0.0\n"
     ]
    }
   ],
   "source": [
    "###ICI ON FAIT NOTRE DEMANDE:\n",
    "# \t1.914286 \t2.363594 \t0.665337 \t4.7\n",
    "#Veuillez indiquer selon ce tableau, les caractéristiques de votre application\n",
    "print(\"On teste 1800 Contacts - Lens Store, rating = 4.7\")\n",
    "SP = categorisationSP(\"0.5\")\n",
    "SS = categorisationSS(\"0.6\")\n",
    "S = categorisationS(\"Positive\")\n",
    "\n",
    "categ1 = retour_prix(liste1,S,SP,SS)\n",
    "ecart = liste1[categ1][1][3]\n",
    "rating = liste1[categ1][0][3]\n",
    "print(\"\\nRating de base du cluster: \",round(rating,2))\n",
    "print(\"Avec un écart-type de: \",round(ecart,2))"
   ]
  },
  {
   "cell_type": "code",
   "execution_count": 27,
   "metadata": {
    "scrolled": true
   },
   "outputs": [
    {
     "name": "stdout",
     "output_type": "stream",
     "text": [
      "On teste 11st, rating = 3.8\n",
      "\n",
      "Rating de base du cluster:  4.03\n",
      "Avec un écart-type de:  0.12\n",
      "Dans ce cas il est normal d'avoir une valeur affichée plus élevée car nous avons renseigné des informations non représentative de la moyenne des catégories pour cette application.\n"
     ]
    }
   ],
   "source": [
    "###ICI ON FAIT NOTRE DEMANDE:\n",
    "#Veuillez indiquer selon ce tableau, les caractéristiques de votre application\n",
    "print(\"On teste 11st, rating = 3.8\")\n",
    "SP = categorisationSP(\"-0.5\")\n",
    "SS = categorisationSS(\"0.15\")\n",
    "S = categorisationS(\"Negative\")\n",
    "categ1 = retour_prix(liste1,S,SP,SS)\n",
    "ecart = liste1[categ1][1][3]\n",
    "rating = liste1[categ1][0][3]\n",
    "print(\"\\nRating de base du cluster: \",round(rating,2))\n",
    "print(\"Avec un écart-type de: \",round(ecart,2))\n",
    "print(\"Dans ce cas il est normal d'avoir une valeur affichée plus élevée car nous avons renseigné des informations non représentative de la moyenne des catégories pour cette application.\")"
   ]
  },
  {
   "cell_type": "markdown",
   "metadata": {},
   "source": [
    "On remarque que les données sont réparties pour la plupart de manière cohérente au sein des clusters. On retrouve les rating recherchés initialement en fonction des arguments passés en paramètres.\n",
    "\n",
    "Mais il existe tout de même un écart lorsque l'application est bien noté mais qu'un sentiment opposé à la moyenne est donné (vice versa).\n"
   ]
  },
  {
   "cell_type": "markdown",
   "metadata": {},
   "source": [
    "## Partie 5 - Résultats\n",
    "\n",
    "Les résultats sont rendus en fonction du sentiment, sentiment subjectif et sentiment populaire.\n",
    "Les résultats sont compris entre l'ecart de base du cluster +- écart-type.\n"
   ]
  },
  {
   "cell_type": "markdown",
   "metadata": {},
   "source": [
    "## Partie 6 - Analyse\n",
    "\n",
    "\n",
    "L'algorithme Kmoyennes nous a permis de déterminer de manière rapide et simple le Rating d'une application accompagné d'une marge.\n",
    "Le rating peut néanmoins être faussé par l'entrée de données non fiables: il faudrait donner en entré la moyenne des sentiments et pas uniquement un des sentiments trouvé dans le df.\n",
    "De plus, les résultats pourraient être plus précis encore à l'aide d'autres données qu'on pourrait trouver: le nombre d'installations ne nous aide pas mais peut-être que d'autres critères si ? A voir ! "
   ]
  }
 ],
 "metadata": {
  "kernelspec": {
   "display_name": "Python 3",
   "language": "python",
   "name": "python3"
  },
  "language_info": {
   "codemirror_mode": {
    "name": "ipython",
    "version": 3
   },
   "file_extension": ".py",
   "mimetype": "text/x-python",
   "name": "python",
   "nbconvert_exporter": "python",
   "pygments_lexer": "ipython3",
   "version": "3.8.3"
  }
 },
 "nbformat": 4,
 "nbformat_minor": 1
}
