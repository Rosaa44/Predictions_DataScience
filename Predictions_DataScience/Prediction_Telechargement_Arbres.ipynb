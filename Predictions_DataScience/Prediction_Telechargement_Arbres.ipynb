{
 "cells": [
  {
   "cell_type": "markdown",
   "metadata": {
    "collapsed": true
   },
   "source": [
    "<font size=\"+1\" color=\"RED\">**[Q]**</font> **Indiquer dans la boîte ci-dessous vos noms et prénoms :**\n",
    "Antoine Toullalan,\n",
    "Rosa Mendas\n",
    "\n",
    "## Partie 1 - Description du problème"
   ]
  },
  {
   "cell_type": "markdown",
   "metadata": {},
   "source": [
    "Nous avons vu que les percepeptrons ne permettaient pas d'avoir une bonne prédiction du nombre de téléchargements d'une app. On va donc essayer de prédire le nombre de téléchargement d'une app grâce aux arbres de décisions. "
   ]
  },
  {
   "cell_type": "markdown",
   "metadata": {},
   "source": [
    "## Partie 2 - Modèle"
   ]
  },
  {
   "cell_type": "markdown",
   "metadata": {},
   "source": [
    "On importe d'abord les données \"nettoyées\" de googleplaystoreCLEANpb2.csv, on importe aussi les fonctions de constructions d'arbres de décision du fichier \"Arbre\".\n",
    "Nous allons créer un arbre de décision qui nous donne dans quelle catégorie se situe une app au niveau du nombre de téléchargements (les catégories sont : de 0 à 100, de 100 à 1000, de 1000 à 10000... jusqu'à 1 000 000 000), il y a donc 9 catégories."
   ]
  },
  {
   "cell_type": "markdown",
   "metadata": {},
   "source": [
    "## Partie 3 - Code"
   ]
  },
  {
   "cell_type": "code",
   "execution_count": 22,
   "metadata": {},
   "outputs": [
    {
     "name": "stdout",
     "output_type": "stream",
     "text": [
      "Index(['Category', 'Size', 'Installs', 'Price', 'Content Rating'], dtype='object')\n"
     ]
    }
   ],
   "source": [
    "import numpy as np\n",
    "import pandas as pd\n",
    "import matplotlib.pyplot as plt\n",
    "import math\n",
    "import random\n",
    "import graphviz as gv\n",
    "\n",
    "from iads import Classifiers as classif\n",
    "from statistics import mean\n",
    "%matplotlib inline\n",
    "\n",
    "import sys\n",
    "sys.path.append('../')  \n",
    "\n",
    "import iads as iads\n",
    "\n",
    "# importation de Classifiers\n",
    "from iads import Arbres as arbres\n",
    "from iads import utils as ut\n",
    "\n",
    "data = pd.read_csv(\"GoogleApps/googleplaystoreCLEANpb2.csv\",encoding='utf-8')\n",
    "data=data.drop(\"Unnamed: 0\",axis=1)\n",
    "data=data.drop(\"Rating\",axis=1)\n",
    "#on supprime la colonne sur le nom des app et Android Ver car il est assez difficile de tirer une information exploitable de ses valeurs\n",
    "data=data.drop(\"App\",axis=1)\n",
    "data=data.drop(\"Android Ver\",axis=1)\n",
    "print(data.columns)"
   ]
  },
  {
   "cell_type": "markdown",
   "metadata": {},
   "source": [
    "Nous avons un problème lors de la construction de l'arbre de décision : il semble qu'il ya trop d'attributs donc nous atteignons la profondeur maximale de récursion, il faut donc réduire le nombre d'attributs."
   ]
  },
  {
   "cell_type": "code",
   "execution_count": 23,
   "metadata": {},
   "outputs": [],
   "source": [
    "def leave_one_out(C, X,Y,nb_tests):\n",
    "    acc=0\n",
    "    for _ in range(nb_tests):\n",
    "        i=random.randrange(len(X))\n",
    "        \n",
    "        one_out=X[i]\n",
    "        label_one_out=Y[i]\n",
    "        \n",
    "        X2=np.concatenate((X[:i],X[i+1:]))\n",
    "        Y2=np.concatenate((Y[:i],Y[i+1:]))\n",
    "        C.train(X2,Y2)\n",
    "        if(C.predict(one_out)==label_one_out):\n",
    "            acc+=1\n",
    "    return acc/nb_tests"
   ]
  },
  {
   "cell_type": "code",
   "execution_count": 24,
   "metadata": {},
   "outputs": [],
   "source": [
    "data_noms = [nom for nom in data.columns if nom != 'Installs']\n",
    "data_desc = np.array(data[data_noms])\n",
    "data_label = np.array(data['Installs'])"
   ]
  },
  {
   "cell_type": "code",
   "execution_count": 25,
   "metadata": {},
   "outputs": [
    {
     "name": "stdout",
     "output_type": "stream",
     "text": [
      "\t*** Warning: attribut  att_0  -> Valeur inconnue:  PHOTOGRAPHY\n",
      "\t*** Warning: attribut  att_0  -> Valeur inconnue:  SOCIAL\n",
      "\t*** Warning: attribut  att_0  -> Valeur inconnue:  SPORTS\n",
      "Accuracy avec leave_one_out :  0.075\n"
     ]
    }
   ],
   "source": [
    "arbre_data = arbres.ClassifierArbreDecision(len(data_noms), 0.1, data_noms)\n",
    "print(\"Accuracy avec leave_one_out : \",leave_one_out(arbre_data,data_desc,data_label,120))"
   ]
  },
  {
   "cell_type": "markdown",
   "metadata": {},
   "source": [
    "On voit que les résultats sont assez faibles (16% de prédictions correctes environ pour 10 valeurs de labels possibles) lorsqu'on utilise les données de \"googleplaystoreCLEANpb2.csv\". On suppose que le problème vient du fait que l'arbrea comme feuille des labels qui ont 10 valeurs différentes, et il est compliqué de créer un tel arbre. Il serait plus simple de créer l'arbre qui prédit le nombre de téléchargements si :\n",
    "les labels ne peuvaient avoir que 2 valeurs différentes: on catégorise donc la valeur de la colonne \"Installs\" en 2 labels: -1 et 1, la valeur de la coupure est la médiane des valeurs de la colonne \"Installs\".\n",
    "\n",
    "De plus on va catégoriser les valeurs des attributs en moins de valeurs pour faciliter l'apprentissage -> il ya notamment de nombreuses valeurs possibles de \"size\", on pourrait améliorer l'apprentissage de l'arbre en re-catégorisant cette colonne."
   ]
  },
  {
   "cell_type": "code",
   "execution_count": 26,
   "metadata": {},
   "outputs": [
    {
     "name": "stdout",
     "output_type": "stream",
     "text": [
      "5\n"
     ]
    }
   ],
   "source": [
    "data_label2=data_label.copy()\n",
    "data_label2.sort()\n",
    "valeur_coupure=data_label2[int(len(data_label2)/2)]\n",
    "print(valeur_coupure)"
   ]
  },
  {
   "cell_type": "markdown",
   "metadata": {},
   "source": [
    "Donc la médiane des labels est 5, on catégorise de la façon suivante les labels:\n",
    "si le label<5 -> label=-1 sinon label=1"
   ]
  },
  {
   "cell_type": "code",
   "execution_count": 27,
   "metadata": {},
   "outputs": [
    {
     "name": "stdout",
     "output_type": "stream",
     "text": [
      "[-1 -1  1 ... -1 -1  1]\n"
     ]
    }
   ],
   "source": [
    "data_label[data_label<=valeur_coupure]=-1\n",
    "data_label[data_label>valeur_coupure]=1\n",
    "print(data_label)"
   ]
  },
  {
   "cell_type": "code",
   "execution_count": 30,
   "metadata": {},
   "outputs": [
    {
     "name": "stdout",
     "output_type": "stream",
     "text": [
      "Accuracy avec leave_one_out :  0.6\n"
     ]
    }
   ],
   "source": [
    "data_noms = [nom for nom in data.columns if nom != 'Installs']\n",
    "#dans data_desc, on aura les colonnes size et price modifiées\n",
    "data_desc = np.array(data[data_noms])\n",
    "#on a déjà modifié data_label donc on ne le reconstruit pas\n",
    "arbre_data = arbres.ClassifierArbreDecision(len(data_noms), 0.1, data_noms)\n",
    "print(\"Accuracy avec leave_one_out : \",leave_one_out(arbre_data,data_desc,data_label,100))"
   ]
  },
  {
   "cell_type": "markdown",
   "metadata": {},
   "source": [
    "## Partie 4 - Protocole expérimental"
   ]
  },
  {
   "cell_type": "markdown",
   "metadata": {},
   "source": [
    "Nous avons utilisé les fonctions développée au tme6, ainsi pour chaque attribut, on regarde le gain d'information. On choisit l'attribut qui maximise le gain d'information et pour chacune des valeurs que prend l'attribut on crée un noeud qui devient un fils du noeud initial (ce noeud est la racine au départ).\n",
    "Lorsque le désordre à un noeud est suffisament faible, ce noeud est une feuille qui prend la valeur de a classe majoritaire.\n",
    "\n",
    "Il faut aussi que les données soient exploitables par l'arbre, c'est pourquoi on re-catégorise le label en 2 catégories, on re-catégorise d'autres attributs (Price,Size) en 2 catégories pour favoriser l'apprentissage."
   ]
  },
  {
   "cell_type": "markdown",
   "metadata": {},
   "source": [
    "## Partie 5 - Résultats"
   ]
  },
  {
   "cell_type": "markdown",
   "metadata": {},
   "source": [
    "Dans le 2eme arbre qu'on construit on arrive à avoir 63% de prédictions correctes pour prédire si une app aura plus ou moins de 10^6(=1 million) de téléchargements car la valeur de coupure est 5->les catégories sont 0 à 10^6(non inclus) et 10^6 (inclus) à 10^9 \n",
    "Ce n'est pas très performant car comme on a 2 catégories, un classifieur aléatoire aurait une accuracy de 50%.\n",
    "Donc notre classifieur est un peu plus performant qu'un classifieur aléatoire..."
   ]
  },
  {
   "cell_type": "markdown",
   "metadata": {},
   "source": [
    "## Partie 6 - Analyse"
   ]
  },
  {
   "cell_type": "markdown",
   "metadata": {},
   "source": [
    "On voit que notre classifieur donnent des résultat plus performants que celui d'un classifieur aléatoire, mais l'Accuracy de ce classifieur reste assez faible (un peu plus de 60%). \n",
    "On remarque que lorsqu'on rajoute la colonne \"Rating\", l'accuracy monte à 75% mais on était plus alors dans le modèle de notre développeur qui n'a accès qu'aux données de l'app avant qu'il la mette sur le GooglePlayStore. J'ai eu alors l'idée de remplacer les valeurs de Rating par la prédiction d'un classifieur car on a vu que le classifieur avec un perceptron à une assez bonne performance pour prédire le rating d'une app (env 60%), mais alors l'accuracy de l'arbre à baissé à 54%...\n",
    "\n",
    "J'ai aussi catégorisé la classe \"Size\" en 2 catégories mais on est tombé à une accuracy de 41%.\n",
    "\n",
    "Donc avec un arbre de classification qui prédit si l'app aura plus ou moins de 1 000 000 de téléchargements, on arrive à avoir une performance légèrement supérieur à celle d'un classifieur aléatoire mais cela reste assez faible car le succès d'une app dépend aussi (et surtout) de données plus subjectives que celles qu'on a."
   ]
  }
 ],
 "metadata": {
  "kernelspec": {
   "display_name": "Python 3",
   "language": "python",
   "name": "python3"
  },
  "language_info": {
   "codemirror_mode": {
    "name": "ipython",
    "version": 3
   },
   "file_extension": ".py",
   "mimetype": "text/x-python",
   "name": "python",
   "nbconvert_exporter": "python",
   "pygments_lexer": "ipython3",
   "version": "3.8.3"
  }
 },
 "nbformat": 4,
 "nbformat_minor": 1
}
