{
 "cells": [
  {
   "cell_type": "markdown",
   "metadata": {
    "collapsed": true
   },
   "source": [
    "<font size=\"+1\" color=\"RED\">**[Q]**</font> **Indiquer dans la boîte ci-dessous vos noms et prénoms :**\n",
    "Antoine Toullalan,\n",
    "Rosa Mendas\n",
    "\n",
    "## Partie 1 - Description du problème"
   ]
  },
  {
   "cell_type": "markdown",
   "metadata": {},
   "source": [
    "On a modifié les données du GooglePlayStore (dans le notebook modifDonnees.ipynb) pour les rendre exploitables, nous allons donc maintenant... les exploiter. On utilisera pour cela exploiter des ***perceptrons***, on espère qu'avec ces algorithmes, on pourra prédire quel va être le succès d'une application (le nombre d'installations et ses critiques)  avant qu'elle soit \"lancée\" sur le GooglePlaystore. On pourra utiliser le perceptron le\" ClassifierPerceptron\",le \"ClassifierPerceptronBiais\", le \"ClassifierPerceptronKernel\", le \"ClassifierADALINE\"."
   ]
  },
  {
   "cell_type": "markdown",
   "metadata": {},
   "source": [
    "## Partie 2 - Modèle"
   ]
  },
  {
   "cell_type": "markdown",
   "metadata": {},
   "source": [
    "On importe d'abord les données \"nettoyées\" de googleplaystoreCLEANpb1.csv, on considère que pour chaque description d'app, le label est dans la colonne \"Installs\" (dans la 1ere partie) puis dansla colonne \"Rating\" (dans la 2eme partie). On sépare les données en données d'entrainement et données à tester : 4/5ème des données sont des données d'apprentissage et 1/5ème des données de test.On cherche a faire une classification multi-classe comme Installs a 9 valeurs possibles, on utilise donc la méthode ClassifierMultiOAA avec les données d'entrainement.\n",
    "Après avoir appliqué chaque perceptron sur les données d'entrainement, on teste leur efficacité sur les données tests."
   ]
  },
  {
   "cell_type": "markdown",
   "metadata": {},
   "source": [
    "On essaie d'abord de prevoir quel va être le nombre d'installation de l'application, puis on essaie de prévoir les critiques qu'elle va avoir."
   ]
  },
  {
   "cell_type": "markdown",
   "metadata": {},
   "source": [
    "## Partie 3 - Code"
   ]
  },
  {
   "cell_type": "code",
   "execution_count": 3,
   "metadata": {},
   "outputs": [
    {
     "name": "stdout",
     "output_type": "stream",
     "text": [
      "Index(['App', 'Rating', 'Size', 'Installs', 'Category1.9',\n",
      "       'CategoryART_AND_DESIGN', 'CategoryAUTO_AND_VEHICLES', 'CategoryBEAUTY',\n",
      "       'CategoryBOOKS_AND_REFERENCE', 'CategoryBUSINESS', 'CategoryCOMICS',\n",
      "       'CategoryCOMMUNICATION', 'CategoryDATING', 'CategoryEDUCATION',\n",
      "       'CategoryENTERTAINMENT', 'CategoryEVENTS', 'CategoryFAMILY',\n",
      "       'CategoryFINANCE', 'CategoryFOOD_AND_DRINK', 'CategoryGAME',\n",
      "       'CategoryHEALTH_AND_FITNESS', 'CategoryHOUSE_AND_HOME',\n",
      "       'CategoryLIBRARIES_AND_DEMO', 'CategoryLIFESTYLE',\n",
      "       'CategoryMAPS_AND_NAVIGATION', 'CategoryMEDICAL',\n",
      "       'CategoryNEWS_AND_MAGAZINES', 'CategoryPARENTING',\n",
      "       'CategoryPERSONALIZATION', 'CategoryPHOTOGRAPHY',\n",
      "       'CategoryPRODUCTIVITY', 'CategorySHOPPING', 'CategorySOCIAL',\n",
      "       'CategorySPORTS', 'CategoryTOOLS', 'CategoryTRAVEL_AND_LOCAL',\n",
      "       'CategoryVIDEO_PLAYERS', 'CategoryWEATHER', 'Price1', 'Price2',\n",
      "       'Price3', 'Price4', 'Price5', 'Android Ver1', 'Android Ver2',\n",
      "       'Android Ver3', 'Android Ver4', 'Android Ver5', 'Android Ver6',\n",
      "       'Android Ver7', 'Android Ver8', 'Content RatingAdults only 18+',\n",
      "       'Content RatingEmpty', 'Content RatingEveryone',\n",
      "       'Content RatingEveryone 10+', 'Content RatingMature 17+',\n",
      "       'Content RatingTeen', 'Content RatingUnrated'],\n",
      "      dtype='object')\n"
     ]
    }
   ],
   "source": [
    "import numpy as np\n",
    "import pandas as pd\n",
    "import matplotlib.pyplot as plt\n",
    "import math\n",
    "from statistics import mean\n",
    "%matplotlib inline\n",
    "\n",
    "import sys\n",
    "sys.path.append('../')  \n",
    "\n",
    "import iads as iads\n",
    "\n",
    "# importation de Classifiers\n",
    "from iads import Classifiers as classif\n",
    "\n",
    "# importation de utils\n",
    "from iads import utils as ut\n",
    "\n",
    "data = pd.read_csv(\"GoogleApps/googleplaystoreCLEANpb1.csv\",encoding='utf-8')\n",
    "data=data.drop(\"Unnamed: 0\",axis=1)\n",
    "\n",
    "print(data.columns)    "
   ]
  },
  {
   "cell_type": "markdown",
   "metadata": {},
   "source": [
    "On applique les perceptrons sur \"Installs\""
   ]
  },
  {
   "cell_type": "code",
   "execution_count": 4,
   "metadata": {},
   "outputs": [
    {
     "name": "stdout",
     "output_type": "stream",
     "text": [
      "Accuracy moyenne de ClassifierPerceptron :  0.16715867158671588\n",
      "Accuracy moyenne de ClassifierPerceptronBiais :  0.17850553505535055\n",
      "Accuracy moyenne de ClassifierPerceptronKernel :  0.1631918819188192\n"
     ]
    }
   ],
   "source": [
    "Y=np.array(data[\"Installs\"])\n",
    "data=data.drop(\"Rating\",axis=1)\n",
    "data=data.drop(\"Installs\",axis=1)\n",
    "X=np.array(data)\n",
    "\n",
    "input_dimension=56\n",
    "learning_rate=1\n",
    "classes=[i for i in range(1,10)]\n",
    "cl1Moyenne=[]\n",
    "cl2Moyenne=[]\n",
    "cl3Moyenne=[]\n",
    "#cl4Moyenne=[]\n",
    "for i in range(5):\n",
    "    Xapp,Yapp,Xtest,Ytest = ut.crossval_strat(X, Y, 5, i)\n",
    "\n",
    "    cl1=classif.ClassifierMultiOAA(classif.ClassifierPerceptron(input_dimension,learning_rate),classes)\n",
    "    cl2=classif.ClassifierMultiOAA(classif.ClassifierPerceptronBiais(input_dimension,learning_rate),classes)\n",
    "    kernel=classif.KernelBias(input_dimension,input_dimension+1)\n",
    "    cl3=classif.ClassifierMultiOAA(classif.ClassifierPerceptronKernel(input_dimension,learning_rate,kernel),classes)\n",
    "    #cl4=classif.ClassifierMultiOAA(classif.ClassifierADALINE(input_dimension,0.0001,100),classes)\n",
    "\n",
    "    cl1.train(Xapp,Yapp)\n",
    "    cl2.train(Xapp,Yapp)\n",
    "    cl3.train(Xapp,Yapp)\n",
    "    #cl4.train(Xapp,Yapp)\n",
    "\n",
    "    cl1Moyenne.append(cl1.accuracy(Xtest,Ytest))\n",
    "    cl2Moyenne.append(cl2.accuracy(Xtest,Ytest))\n",
    "    cl3Moyenne.append(cl3.accuracy(Xtest,Ytest))\n",
    "    #cl4Moyenne.append(cl4.accuracy(Xtest,Ytest))\n",
    "    \n",
    "print(\"Accuracy moyenne de ClassifierPerceptron : \",mean(cl1Moyenne))\n",
    "print(\"Accuracy moyenne de ClassifierPerceptronBiais : \",mean(cl2Moyenne))\n",
    "print(\"Accuracy moyenne de ClassifierPerceptronKernel : \",mean(cl3Moyenne))\n",
    "#print(\"Accuracy moyenne de ClassifierADALINE : \",mean(cl4Moyenne))"
   ]
  },
  {
   "cell_type": "markdown",
   "metadata": {},
   "source": [
    "On applique maintenant les perceptrons sur \"Rating\""
   ]
  },
  {
   "cell_type": "code",
   "execution_count": 5,
   "metadata": {},
   "outputs": [],
   "source": [
    "data = pd.read_csv(\"GoogleApps/googleplaystoreCLEAN.csv\",encoding='utf-8')\n",
    "data=data.drop(\"Unnamed: 0\",axis=1)"
   ]
  },
  {
   "cell_type": "code",
   "execution_count": 6,
   "metadata": {},
   "outputs": [
    {
     "name": "stdout",
     "output_type": "stream",
     "text": [
      "[-25, -43, 0, 0, -1, 0, -1, -2, 0, 3, 8, 0, -1, 0, -2, 2, 4, 0, -2, 0, 0, 7, 4, 3, 1, 0, -1, -1, 0, 0, -2, -3, 4, -2, -1, 0, 12, 3, 2, 0, 0, -1, -3, 1, 16, 5, -1, 0, 0, 0, 0, 16, -1, 7, -5, 0]\n",
      "[-3, -39, 0, -2, 1, -2, -5, 7, -3, -9, 17, -9, -2, 0, 3, 7, 0, -17, 19, -1, -1, 6, 11, 9, 5, 0, -5, 15, -2, -2, -1, 0, 2, 0, -4, -1, 21, 7, 10, -2, 0, -4, 2, 8, 25, 3, 3, -2, 1, 0, 0, 36, -4, 7, -3, 0]\n",
      "[-62, 1, 0, -14, 1, -3, 15, 80, 9, -25, 78, -55, 22, -6, 13, -22, 29, -101, -31, -3, 11, 31, -2, 56, 27, 7, -1, -30, 5, -7, -11, -3, 42, 44, 51, 3, 76, 60, 59, 6, 9, 25, 72, 13, 31, 44, 12, 12, 1, 0, 0, 137, -58, 55, 76, 0]\n",
      "[33, 21, 0, 22, 4, -3, -27, -81, -6, 32, -105, 87, -16, -11, -64, -23, -25, 100, 6, 1, -11, -76, -6, -99, -43, -7, 46, 54, 36, 43, 15, 4, -29, -10, -24, -7, -126, -67, -14, -11, -5, -11, -77, -27, -63, -17, -15, -10, -3, -2, 0, -117, 43, -84, -63, 0]\n",
      "[-11, -65, 0, -3, -3, -4, -1, 4, 7, -4, 3, -4, -4, 10, 42, 0, -1, -11, 8, -3, -2, 11, -5, 32, -1, -1, -4, -2, -13, 6, 4, -3, 0, -2, -9, -1, 28, 17, -1, 2, 0, 1, -11, -7, 54, 12, -1, -2, 0, 0, 0, 45, -5, 12, -5, -1]\n",
      "Accuracy moyenne de ClassifierPerceptron :  0.5220479704797047\n",
      "Accuracy moyenne de ClassifierPerceptronBiais :  0.4460332103321033\n",
      "Accuracy moyenne de ClassifierPerceptronKernel :  0.6072878228782288\n"
     ]
    }
   ],
   "source": [
    "Y=np.array(data[\"Rating\"])\n",
    "data=data.drop(\"Installs\",axis=1)\n",
    "data=data.drop(\"Rating\",axis=1)\n",
    "X=np.array(data)\n",
    "\n",
    "nb_iteration=5\n",
    "input_dimension=56\n",
    "learning_rate=1\n",
    "classes=[1,2,3,4,5]\n",
    "cl1Moyenne=[]\n",
    "cl2Moyenne=[]\n",
    "cl3Moyenne=[]\n",
    "#cl4Moyenne=[]\n",
    "for i in range(5):\n",
    "    Xapp,Yapp,Xtest,Ytest = ut.crossval_strat(X, Y, 5, i)\n",
    "\n",
    "    cl1=classif.ClassifierMultiOAA(classif.ClassifierPerceptron(input_dimension,learning_rate),classes)\n",
    "    cl2=classif.ClassifierMultiOAA(classif.ClassifierPerceptronBiais(input_dimension,learning_rate),classes)\n",
    "    kernel=classif.KernelBias(input_dimension,input_dimension+1)\n",
    "    cl3=classif.ClassifierMultiOAA(classif.ClassifierPerceptronKernel(input_dimension,learning_rate,kernel),classes)\n",
    "    #cl4=classif.ClassifierMultiOAA(classif.ClassifierADALINE(input_dimension,0.001,1000),classes)\n",
    "\n",
    "    cl1.train(Xapp,Yapp)\n",
    "    cl2.train(Xapp,Yapp)\n",
    "    cl3.train(Xapp,Yapp)\n",
    "    #cl4.train(Xapp,Yapp)\n",
    "\n",
    "    cl1Moyenne.append(cl1.accuracy(Xtest,Ytest))\n",
    "    cl2Moyenne.append(cl2.accuracy(Xtest,Ytest))\n",
    "    cl3Moyenne.append(cl3.accuracy(Xtest,Ytest))\n",
    "    #cl4Moyenne.append(cl4.accuracy(Xtest,Ytest))\n",
    "    \n",
    "for percep in cl1.perceptrons:\n",
    "    print(percep.w) \n",
    "print(\"Accuracy moyenne de ClassifierPerceptron : \",mean(cl1Moyenne))\n",
    "print(\"Accuracy moyenne de ClassifierPerceptronBiais : \",mean(cl2Moyenne))\n",
    "print(\"Accuracy moyenne de ClassifierPerceptronKernel : \",mean(cl3Moyenne))\n",
    "#print(\"Accuracy moyenne de ClassifierADALINE : \",mean(cl4Moyenne))\n"
   ]
  },
  {
   "cell_type": "markdown",
   "metadata": {},
   "source": [
    "## Partie 4 - Protocole expérimental"
   ]
  },
  {
   "cell_type": "markdown",
   "metadata": {},
   "source": [
    "Pour prédire le succès d'une app avec des perceptrons, on utilise différentes variantes de perceptrons afin de maximiser nos chances de succès. La taille des données est très grandes (plus de 100 000 descriptions d'apps), on n'éxecute donc pas plusieurs fois la méthodes \"train\" pour nos perceptrons pour le jeu de données d'apprentissage et on ne teste pas nos algorithmes avec plusieurs jeu de tests de données à cause du temps de calculs qui seraient de plusieurs heures (ainsi, le temps de calcul pour \"Install\" et \"Rating\" est d'une dizaine de minutes)"
   ]
  },
  {
   "cell_type": "markdown",
   "metadata": {},
   "source": [
    "## Partie 5 - Résultats"
   ]
  },
  {
   "cell_type": "markdown",
   "metadata": {},
   "source": [
    "On voit que les precisions des classifieurs sur le nombre d'installations sont assez faibles : environ 10% de prédictions correctes. En effet, le succès d'une application dépend d'autres paramètres plus subjectifs que la categorie, la taille, la version d'Android... de l'app. Mais les classifieurs arrivent avec une précision d'environ 60% quelles vont être les critiques d'une app!"
   ]
  },
  {
   "cell_type": "markdown",
   "metadata": {},
   "source": [
    "## Partie 6 - Analyse"
   ]
  },
  {
   "cell_type": "markdown",
   "metadata": {},
   "source": [
    "On a donc vu que nos algorithmes marchent plutôt bien pour prédire les \"Rating\" de l'app contrairement aux prédictions du nombre d'installations. On observe les vecteurs de poids du perceptron Adaline pour les perceptrons qui classifie les app avec les notes entre 4 et 5. \n",
    "\n",
    "On voit que les poids les plus grand et positifs (supérieurs à 4) sont sur les colonnes CategoryBOOKS_AND_REFERENCE, CategoryCOMMUNICATION,Content RatingEveryone,Android Ver4,Price1(qui correspond à une app gratuite), et CategorySPORTS. \n",
    "De plus il y a un poids négatifs important (environ -12) à la colonne CategoryVIDEO_PLAYERS.\n",
    "\n",
    "Les app qui ont des bonnes critiques sont donc souvent des app sur le thèmes des livre, du sport ou de la communication, qui sont gratuites et pour tout public.\n",
    "\n",
    "La relativement bonne prédiction des critiques des app peut être du au fait que en grande majorité, la ote moyenne d'une app est soit entre 3 et 4 ou entre 4 et 5."
   ]
  }
 ],
 "metadata": {
  "kernelspec": {
   "display_name": "Python 3",
   "language": "python",
   "name": "python3"
  },
  "language_info": {
   "codemirror_mode": {
    "name": "ipython",
    "version": 3
   },
   "file_extension": ".py",
   "mimetype": "text/x-python",
   "name": "python",
   "nbconvert_exporter": "python",
   "pygments_lexer": "ipython3",
   "version": "3.8.3"
  }
 },
 "nbformat": 4,
 "nbformat_minor": 1
}
