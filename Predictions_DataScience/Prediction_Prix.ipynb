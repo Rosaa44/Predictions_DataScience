{
 "cells": [
  {
   "cell_type": "markdown",
   "metadata": {},
   "source": [
    "## Projet 2021"
   ]
  },
  {
   "cell_type": "markdown",
   "metadata": {},
   "source": [
    "### Préparation du notebook\n"
   ]
  },
  {
   "cell_type": "markdown",
   "metadata": {},
   "source": [
    "<font size=\"+1\" color=\"RED\">**[Q]**</font> **Indiquer dans la boîte ci-dessous vos noms et prénoms :**\n",
    "Antoine Toullalan,\n",
    "Rosa Mendas"
   ]
  },
  {
   "cell_type": "markdown",
   "metadata": {},
   "source": [
    "## Partie 1 - Description du problème"
   ]
  },
  {
   "cell_type": "markdown",
   "metadata": {},
   "source": [
    "On se positionne du côté developpeur de l'application. On souhaite déterminer le prix d'une application à mettre sur le marché. A partir des données fournies, nous allons tenter de déterminer à quel prix pourrait être lancée une application. Pour ce faire, nous allons baser notre analyse sur une classification non supervisée, notamment grâce à la méthode Kmoyennes.\n"
   ]
  },
  {
   "cell_type": "markdown",
   "metadata": {},
   "source": [
    "## Partie 2 - Modèle"
   ]
  },
  {
   "cell_type": "markdown",
   "metadata": {},
   "source": [
    "On importe les données fournies dans GoogleApps puis on retire les colonnes non utilisées. \n",
    "On attribue des identifiants spécifiques à chacun des élements du Dataframe.\n",
    "L'idée finale serait d'avoir une fonction qui -avec quelques critères données en entrée- nous donnerait une fourchette de prix pour l'application: on se positionne dans un des cluster formés.\n",
    "\n",
    "Afin de résoudre la problématique: \n",
    "\n",
    "On doit d'abord déterminer les paramètres qui influent sur le prix.\n",
    "On normalise l'ensemble des valeurs du df et on applique Kmoyennes au nouveau df normalisé.\n",
    "On construit un dictionnaire contenant l'ensemble des moyennes et écarts-types de chaque colonne pour chaque affectation.\n",
    "Enfin, on crée une fonction qui prend les caractéristiques de l'application en entrée, cherchera l'affectation qui lui convient le plus et retournera une fourchette de prix.\n",
    "\n",
    "On prend pour hypothèse : \n",
    "Retourner un prix en fonction du maximum de critères partagés, dans ce cas on ne regarde pas uniquement la catégorie. \n"
   ]
  },
  {
   "cell_type": "markdown",
   "metadata": {},
   "source": [
    "## Partie 3 - Code Transformation"
   ]
  },
  {
   "cell_type": "code",
   "execution_count": 1,
   "metadata": {},
   "outputs": [],
   "source": [
    "import numpy as np\n",
    "import pandas as pd\n",
    "import matplotlib.pyplot as plt\n",
    "import math\n",
    "%matplotlib inline"
   ]
  },
  {
   "cell_type": "code",
   "execution_count": 2,
   "metadata": {
    "scrolled": true
   },
   "outputs": [
    {
     "data": {
      "text/html": [
       "<div>\n",
       "<style scoped>\n",
       "    .dataframe tbody tr th:only-of-type {\n",
       "        vertical-align: middle;\n",
       "    }\n",
       "\n",
       "    .dataframe tbody tr th {\n",
       "        vertical-align: top;\n",
       "    }\n",
       "\n",
       "    .dataframe thead th {\n",
       "        text-align: right;\n",
       "    }\n",
       "</style>\n",
       "<table border=\"1\" class=\"dataframe\">\n",
       "  <thead>\n",
       "    <tr style=\"text-align: right;\">\n",
       "      <th></th>\n",
       "      <th>App</th>\n",
       "      <th>Category</th>\n",
       "      <th>Rating</th>\n",
       "      <th>Reviews</th>\n",
       "      <th>Size</th>\n",
       "      <th>Installs</th>\n",
       "      <th>Type</th>\n",
       "      <th>Price</th>\n",
       "      <th>Content Rating</th>\n",
       "      <th>Genres</th>\n",
       "      <th>Last Updated</th>\n",
       "      <th>Current Ver</th>\n",
       "      <th>Android Ver</th>\n",
       "    </tr>\n",
       "  </thead>\n",
       "  <tbody>\n",
       "    <tr>\n",
       "      <th>0</th>\n",
       "      <td>Photo Editor &amp; Candy Camera &amp; Grid &amp; ScrapBook</td>\n",
       "      <td>ART_AND_DESIGN</td>\n",
       "      <td>4.1</td>\n",
       "      <td>159</td>\n",
       "      <td>19M</td>\n",
       "      <td>10,000+</td>\n",
       "      <td>Free</td>\n",
       "      <td>0</td>\n",
       "      <td>Everyone</td>\n",
       "      <td>Art &amp; Design</td>\n",
       "      <td>January 7, 2018</td>\n",
       "      <td>1.0.0</td>\n",
       "      <td>4.0.3 and up</td>\n",
       "    </tr>\n",
       "    <tr>\n",
       "      <th>1</th>\n",
       "      <td>Coloring book moana</td>\n",
       "      <td>ART_AND_DESIGN</td>\n",
       "      <td>3.9</td>\n",
       "      <td>967</td>\n",
       "      <td>14M</td>\n",
       "      <td>500,000+</td>\n",
       "      <td>Free</td>\n",
       "      <td>0</td>\n",
       "      <td>Everyone</td>\n",
       "      <td>Art &amp; Design;Pretend Play</td>\n",
       "      <td>January 15, 2018</td>\n",
       "      <td>2.0.0</td>\n",
       "      <td>4.0.3 and up</td>\n",
       "    </tr>\n",
       "    <tr>\n",
       "      <th>2</th>\n",
       "      <td>U Launcher Lite – FREE Live Cool Themes, Hide ...</td>\n",
       "      <td>ART_AND_DESIGN</td>\n",
       "      <td>4.7</td>\n",
       "      <td>87510</td>\n",
       "      <td>8.7M</td>\n",
       "      <td>5,000,000+</td>\n",
       "      <td>Free</td>\n",
       "      <td>0</td>\n",
       "      <td>Everyone</td>\n",
       "      <td>Art &amp; Design</td>\n",
       "      <td>August 1, 2018</td>\n",
       "      <td>1.2.4</td>\n",
       "      <td>4.0.3 and up</td>\n",
       "    </tr>\n",
       "    <tr>\n",
       "      <th>3</th>\n",
       "      <td>Sketch - Draw &amp; Paint</td>\n",
       "      <td>ART_AND_DESIGN</td>\n",
       "      <td>4.5</td>\n",
       "      <td>215644</td>\n",
       "      <td>25M</td>\n",
       "      <td>50,000,000+</td>\n",
       "      <td>Free</td>\n",
       "      <td>0</td>\n",
       "      <td>Teen</td>\n",
       "      <td>Art &amp; Design</td>\n",
       "      <td>June 8, 2018</td>\n",
       "      <td>Varies with device</td>\n",
       "      <td>4.2 and up</td>\n",
       "    </tr>\n",
       "    <tr>\n",
       "      <th>4</th>\n",
       "      <td>Pixel Draw - Number Art Coloring Book</td>\n",
       "      <td>ART_AND_DESIGN</td>\n",
       "      <td>4.3</td>\n",
       "      <td>967</td>\n",
       "      <td>2.8M</td>\n",
       "      <td>100,000+</td>\n",
       "      <td>Free</td>\n",
       "      <td>0</td>\n",
       "      <td>Everyone</td>\n",
       "      <td>Art &amp; Design;Creativity</td>\n",
       "      <td>June 20, 2018</td>\n",
       "      <td>1.1</td>\n",
       "      <td>4.4 and up</td>\n",
       "    </tr>\n",
       "  </tbody>\n",
       "</table>\n",
       "</div>"
      ],
      "text/plain": [
       "                                                 App        Category  Rating  \\\n",
       "0     Photo Editor & Candy Camera & Grid & ScrapBook  ART_AND_DESIGN     4.1   \n",
       "1                                Coloring book moana  ART_AND_DESIGN     3.9   \n",
       "2  U Launcher Lite – FREE Live Cool Themes, Hide ...  ART_AND_DESIGN     4.7   \n",
       "3                              Sketch - Draw & Paint  ART_AND_DESIGN     4.5   \n",
       "4              Pixel Draw - Number Art Coloring Book  ART_AND_DESIGN     4.3   \n",
       "\n",
       "  Reviews  Size     Installs  Type Price Content Rating  \\\n",
       "0     159   19M      10,000+  Free     0       Everyone   \n",
       "1     967   14M     500,000+  Free     0       Everyone   \n",
       "2   87510  8.7M   5,000,000+  Free     0       Everyone   \n",
       "3  215644   25M  50,000,000+  Free     0           Teen   \n",
       "4     967  2.8M     100,000+  Free     0       Everyone   \n",
       "\n",
       "                      Genres      Last Updated         Current Ver  \\\n",
       "0               Art & Design   January 7, 2018               1.0.0   \n",
       "1  Art & Design;Pretend Play  January 15, 2018               2.0.0   \n",
       "2               Art & Design    August 1, 2018               1.2.4   \n",
       "3               Art & Design      June 8, 2018  Varies with device   \n",
       "4    Art & Design;Creativity     June 20, 2018                 1.1   \n",
       "\n",
       "    Android Ver  \n",
       "0  4.0.3 and up  \n",
       "1  4.0.3 and up  \n",
       "2  4.0.3 and up  \n",
       "3    4.2 and up  \n",
       "4    4.4 and up  "
      ]
     },
     "execution_count": 2,
     "metadata": {},
     "output_type": "execute_result"
    }
   ],
   "source": [
    "import sys\n",
    "sys.path.append('../')  \n",
    "\n",
    "data1 = pd.read_csv(\"GoogleApps/googleplaystore.csv\",encoding='utf-8')\n",
    "data1.drop(data1.loc[data1['Rating']==19].index, inplace=True) #on supprime la ligne décalée du df\n",
    "data1.head()"
   ]
  },
  {
   "cell_type": "code",
   "execution_count": 3,
   "metadata": {},
   "outputs": [
    {
     "name": "stdout",
     "output_type": "stream",
     "text": [
      "(10840, 13)\n",
      "(724, 13)\n"
     ]
    }
   ],
   "source": [
    "data=data1.fillna(\"Empty\")\n",
    "print(data1.shape)\n",
    "data.drop(data.loc[data['Type']==\"Free\"].index, inplace=True) #on supprime les applications gratuites car on veut déterminer un prix !\n",
    "data.drop(data.loc[data['Size']==\"Varies with device\"].index, inplace=True)\n",
    "data.head()\n",
    "print(data.shape)"
   ]
  },
  {
   "cell_type": "code",
   "execution_count": 4,
   "metadata": {},
   "outputs": [],
   "source": [
    "from datetime import datetime\n",
    "import re\n",
    "\n",
    "#Quelques fonctions pour rendre le df plus lisible\n",
    "\n",
    "def categorisationRU(var):\n",
    "    return int(var)\n",
    "\n",
    "def categorisationLU(var):\n",
    "    return datetime.strptime(var, '%B %d, %Y')\n",
    "\n",
    "def categorisationPrice(val):\n",
    "    if val[0]=='$':\n",
    "        return float(val[1:])\n",
    "    else:\n",
    "        return -1\n",
    "\n",
    "def categorisationSize(val):\n",
    "    if(type(val)==type(\"string\")):\n",
    "        if(val==\"Varies with device\"):\n",
    "            return 25\n",
    "        elif(val[-1:]=='K' or val[-1:]=='k'):\n",
    "            coeff=0.001\n",
    "        else:\n",
    "            coeff=1\n",
    "        val=val[:-1].replace(',','')\n",
    "        return int(float(val)*coeff)\n",
    "    return int(val)\n",
    "\n",
    "def categorisationInstalls(val):\n",
    "    if(val==\"Free\"):\n",
    "        return -1\n",
    "    return re.sub('[,+]', '', val)\n",
    "\n",
    "def categorisationRating(val): \n",
    "    if val ==\"Empty\":\n",
    "        return -1\n",
    "    if float(val)<0 or float(val)>5:\n",
    "        return -1\n",
    "    return val\n",
    "    \n",
    "listeCurrV=np.unique(data[\"Current Ver\"].values).tolist()\n",
    "def categorisationCurrV(val): \n",
    "    #return listeCurrV.index(val)+1\n",
    "    L=['1','2','3','4','5','6','7','8']\n",
    "    if val[0] not in L:\n",
    "        return 9\n",
    "    return int(val[0])\n",
    "\n",
    "listeAndroid=np.unique(data[\"Android Ver\"].values).tolist()\n",
    "def categorisationAndroid(val): \n",
    "    return listeAndroid.index(val)+1\n"
   ]
  },
  {
   "cell_type": "code",
   "execution_count": 5,
   "metadata": {},
   "outputs": [
    {
     "name": "stdout",
     "output_type": "stream",
     "text": [
      "(724, 13)\n",
      "(579, 13)\n"
     ]
    },
    {
     "data": {
      "text/html": [
       "<div>\n",
       "<style scoped>\n",
       "    .dataframe tbody tr th:only-of-type {\n",
       "        vertical-align: middle;\n",
       "    }\n",
       "\n",
       "    .dataframe tbody tr th {\n",
       "        vertical-align: top;\n",
       "    }\n",
       "\n",
       "    .dataframe thead th {\n",
       "        text-align: right;\n",
       "    }\n",
       "</style>\n",
       "<table border=\"1\" class=\"dataframe\">\n",
       "  <thead>\n",
       "    <tr style=\"text-align: right;\">\n",
       "      <th></th>\n",
       "      <th>App</th>\n",
       "      <th>Category</th>\n",
       "      <th>Rating</th>\n",
       "      <th>Reviews</th>\n",
       "      <th>Size</th>\n",
       "      <th>Installs</th>\n",
       "      <th>Type</th>\n",
       "      <th>Price</th>\n",
       "      <th>Content Rating</th>\n",
       "      <th>Genres</th>\n",
       "      <th>Last Updated</th>\n",
       "      <th>Current Ver</th>\n",
       "      <th>Android Ver</th>\n",
       "    </tr>\n",
       "  </thead>\n",
       "  <tbody>\n",
       "    <tr>\n",
       "      <th>234</th>\n",
       "      <td>TurboScan: scan documents and receipts in PDF</td>\n",
       "      <td>BUSINESS</td>\n",
       "      <td>4.7</td>\n",
       "      <td>11442</td>\n",
       "      <td>6</td>\n",
       "      <td>100000</td>\n",
       "      <td>Paid</td>\n",
       "      <td>4.99</td>\n",
       "      <td>Everyone</td>\n",
       "      <td>Business</td>\n",
       "      <td>2018-03-25</td>\n",
       "      <td>1</td>\n",
       "      <td>12</td>\n",
       "    </tr>\n",
       "    <tr>\n",
       "      <th>235</th>\n",
       "      <td>Tiny Scanner Pro: PDF Doc Scan</td>\n",
       "      <td>BUSINESS</td>\n",
       "      <td>4.8</td>\n",
       "      <td>10295</td>\n",
       "      <td>39</td>\n",
       "      <td>100000</td>\n",
       "      <td>Paid</td>\n",
       "      <td>4.99</td>\n",
       "      <td>Everyone</td>\n",
       "      <td>Business</td>\n",
       "      <td>2017-04-11</td>\n",
       "      <td>3</td>\n",
       "      <td>9</td>\n",
       "    </tr>\n",
       "    <tr>\n",
       "      <th>290</th>\n",
       "      <td>TurboScan: scan documents and receipts in PDF</td>\n",
       "      <td>BUSINESS</td>\n",
       "      <td>4.7</td>\n",
       "      <td>11442</td>\n",
       "      <td>6</td>\n",
       "      <td>100000</td>\n",
       "      <td>Paid</td>\n",
       "      <td>4.99</td>\n",
       "      <td>Everyone</td>\n",
       "      <td>Business</td>\n",
       "      <td>2018-03-25</td>\n",
       "      <td>1</td>\n",
       "      <td>12</td>\n",
       "    </tr>\n",
       "    <tr>\n",
       "      <th>291</th>\n",
       "      <td>Tiny Scanner Pro: PDF Doc Scan</td>\n",
       "      <td>BUSINESS</td>\n",
       "      <td>4.8</td>\n",
       "      <td>10295</td>\n",
       "      <td>39</td>\n",
       "      <td>100000</td>\n",
       "      <td>Paid</td>\n",
       "      <td>4.99</td>\n",
       "      <td>Everyone</td>\n",
       "      <td>Business</td>\n",
       "      <td>2017-04-11</td>\n",
       "      <td>3</td>\n",
       "      <td>9</td>\n",
       "    </tr>\n",
       "    <tr>\n",
       "      <th>477</th>\n",
       "      <td>Calculator</td>\n",
       "      <td>DATING</td>\n",
       "      <td>2.6</td>\n",
       "      <td>57</td>\n",
       "      <td>6</td>\n",
       "      <td>1000</td>\n",
       "      <td>Paid</td>\n",
       "      <td>6.99</td>\n",
       "      <td>Everyone</td>\n",
       "      <td>Dating</td>\n",
       "      <td>2017-10-25</td>\n",
       "      <td>1</td>\n",
       "      <td>12</td>\n",
       "    </tr>\n",
       "  </tbody>\n",
       "</table>\n",
       "</div>"
      ],
      "text/plain": [
       "                                               App  Category  Rating  Reviews  \\\n",
       "234  TurboScan: scan documents and receipts in PDF  BUSINESS     4.7    11442   \n",
       "235                 Tiny Scanner Pro: PDF Doc Scan  BUSINESS     4.8    10295   \n",
       "290  TurboScan: scan documents and receipts in PDF  BUSINESS     4.7    11442   \n",
       "291                 Tiny Scanner Pro: PDF Doc Scan  BUSINESS     4.8    10295   \n",
       "477                                     Calculator    DATING     2.6       57   \n",
       "\n",
       "     Size Installs  Type  Price Content Rating    Genres Last Updated  \\\n",
       "234     6   100000  Paid   4.99       Everyone  Business   2018-03-25   \n",
       "235    39   100000  Paid   4.99       Everyone  Business   2017-04-11   \n",
       "290     6   100000  Paid   4.99       Everyone  Business   2018-03-25   \n",
       "291    39   100000  Paid   4.99       Everyone  Business   2017-04-11   \n",
       "477     6     1000  Paid   6.99       Everyone    Dating   2017-10-25   \n",
       "\n",
       "     Current Ver  Android Ver  \n",
       "234            1           12  \n",
       "235            3            9  \n",
       "290            1           12  \n",
       "291            3            9  \n",
       "477            1           12  "
      ]
     },
     "execution_count": 5,
     "metadata": {},
     "output_type": "execute_result"
    }
   ],
   "source": [
    "new_android=data[\"Android Ver\"].apply(categorisationAndroid)\n",
    "data[\"Android Ver\"]=new_android.values\n",
    "\n",
    "new_prices=data[\"Price\"].apply(categorisationPrice)\n",
    "data[\"Price\"]=new_prices.values\n",
    "\n",
    "new_size=data[\"Size\"].apply(categorisationSize)\n",
    "data[\"Size\"]=new_size.values\n",
    "\n",
    "new_inst=data[\"Installs\"].apply(categorisationInstalls)\n",
    "data[\"Installs\"]=new_inst.values\n",
    "\n",
    "new_lu=data[\"Last Updated\"].apply(categorisationLU)\n",
    "data[\"Last Updated\"]=new_lu.values\n",
    "\n",
    "new_Ru=data[\"Reviews\"].apply(categorisationRU)\n",
    "data[\"Reviews\"]=new_Ru.values\n",
    "\n",
    "new_rating=data[\"Rating\"].apply(categorisationRating)\n",
    "data[\"Rating\"]=new_rating.values\n",
    "\n",
    "new_CurrV=data[\"Current Ver\"].apply(categorisationCurrV)\n",
    "data[\"Current Ver\"]=new_CurrV.values\n",
    "print(data.shape)\n",
    "data.drop(data.loc[data['Rating']==-1].index, inplace=True)\n",
    "data.drop(data.loc[data['Price']==-1].index, inplace=True)\n",
    "print(data.shape)\n",
    "data.head()"
   ]
  },
  {
   "cell_type": "markdown",
   "metadata": {},
   "source": [
    "#### A partir de là nous allons tenter de déterminer les critères qui influent sur le prix.\n"
   ]
  },
  {
   "cell_type": "code",
   "execution_count": 6,
   "metadata": {},
   "outputs": [
    {
     "data": {
      "image/png": "[encoded data removed]",
      "text/plain": [
       "<Figure size 1800x1800 with 1 Axes>"
      ]
     },
     "metadata": {
      "needs_background": "light"
     },
     "output_type": "display_data"
    }
   ],
   "source": [
    "X = np.array(np.sort(data[\"Price\"]))\n",
    "Y = np.array(data[\"Last Updated\"])\n",
    "figure = plt.figure(figsize = (25, 25))\n",
    "plt.gcf().subplots_adjust(left = 0, bottom = 0.1,right = 0.5, top = 0.9, wspace = 0, hspace = 1)\n",
    "axes = figure.add_subplot(2, 1, 1)\n",
    "axes.scatter(X,Y)\n",
    "plt.show()"
   ]
  },
  {
   "cell_type": "code",
   "execution_count": 7,
   "metadata": {},
   "outputs": [
    {
     "data": {
      "image/png": "[encoded data removed]",
      "text/plain": [
       "<Figure size 1080x1080 with 1 Axes>"
      ]
     },
     "metadata": {
      "needs_background": "light"
     },
     "output_type": "display_data"
    }
   ],
   "source": [
    "X = np.array(np.sort(data[\"Price\"]))\n",
    "Y = np.array(data[\"Current Ver\"])\n",
    "figure = plt.figure(figsize = (15, 15))\n",
    "plt.gcf().subplots_adjust(left = 0, bottom = 0.1,right = 0.5, top = 0.9, wspace = 0, hspace = 1)\n",
    "axes = figure.add_subplot(2, 1, 1)\n",
    "axes.scatter(X,Y)\n",
    "plt.show()"
   ]
  },
  {
   "cell_type": "code",
   "execution_count": 8,
   "metadata": {},
   "outputs": [
    {
     "data": {
      "image/png": "[encoded data removed]",
      "text/plain": [
       "<Figure size 1080x1080 with 1 Axes>"
      ]
     },
     "metadata": {
      "needs_background": "light"
     },
     "output_type": "display_data"
    }
   ],
   "source": [
    "X = np.array(np.sort(data[\"Price\"]))\n",
    "Y = np.array(data[\"Android Ver\"])\n",
    "figure = plt.figure(figsize = (15, 15))\n",
    "plt.gcf().subplots_adjust(left = 0, bottom = 0.1,right = 0.5, top = 0.9, wspace = 0, hspace = 1)\n",
    "axes = figure.add_subplot(2, 1, 1)\n",
    "axes.scatter(X,Y)\n",
    "plt.show()"
   ]
  },
  {
   "cell_type": "code",
   "execution_count": 9,
   "metadata": {},
   "outputs": [
    {
     "data": {
      "image/png": "[encoded data removed]",
      "text/plain": [
       "<Figure size 1080x1080 with 1 Axes>"
      ]
     },
     "metadata": {
      "needs_background": "light"
     },
     "output_type": "display_data"
    }
   ],
   "source": [
    "X = np.array(np.sort(data[\"Price\"]))\n",
    "Y = np.array(data[\"Installs\"])\n",
    "figure = plt.figure(figsize = (15, 15))\n",
    "plt.gcf().subplots_adjust(left = 0, bottom = 0.1,right = 0.5, top = 0.9, wspace = 0, hspace = 1)\n",
    "axes = figure.add_subplot(2, 1, 1)\n",
    "axes.scatter(X,Y)\n",
    "plt.show()"
   ]
  },
  {
   "cell_type": "code",
   "execution_count": 10,
   "metadata": {},
   "outputs": [
    {
     "data": {
      "image/png": "[encoded data removed]",
      "text/plain": [
       "<Figure size 1080x1080 with 1 Axes>"
      ]
     },
     "metadata": {
      "needs_background": "light"
     },
     "output_type": "display_data"
    }
   ],
   "source": [
    "X = np.array(np.sort(data[\"Price\"]))\n",
    "Y = np.array(data[\"Rating\"])\n",
    "figure = plt.figure(figsize = (15, 15))\n",
    "plt.gcf().subplots_adjust(left = 0, bottom = 0.1,right = 0.5, top = 0.9, wspace = 0, hspace = 1)\n",
    "axes = figure.add_subplot(2, 1, 1)\n",
    "axes.scatter(X,Y)\n",
    "plt.show()"
   ]
  },
  {
   "cell_type": "code",
   "execution_count": 11,
   "metadata": {},
   "outputs": [
    {
     "data": {
      "image/png": "[encoded data removed]",
      "text/plain": [
       "<Figure size 1080x1080 with 1 Axes>"
      ]
     },
     "metadata": {
      "needs_background": "light"
     },
     "output_type": "display_data"
    }
   ],
   "source": [
    "X = np.array(np.sort(data[\"Price\"]))\n",
    "Y = np.array(data[\"Reviews\"])\n",
    "figure = plt.figure(figsize = (15, 15))\n",
    "plt.gcf().subplots_adjust(left = 0, bottom = 0.1,right = 0.5, top = 0.9, wspace = 0, hspace = 1)\n",
    "axes = figure.add_subplot(2, 1, 1)\n",
    "axes.scatter(X,Y)\n",
    "plt.show()\n",
    "#Le rating semble partager les prix"
   ]
  },
  {
   "cell_type": "code",
   "execution_count": 12,
   "metadata": {},
   "outputs": [
    {
     "data": {
      "image/png": "[encoded data removed]",
      "text/plain": [
       "<Figure size 1080x1080 with 1 Axes>"
      ]
     },
     "metadata": {
      "needs_background": "light"
     },
     "output_type": "display_data"
    }
   ],
   "source": [
    "X = np.array(np.sort(data[\"Price\"]))\n",
    "Y = np.array(data[\"Category\"])\n",
    "figure = plt.figure(figsize = (15, 15))\n",
    "plt.gcf().subplots_adjust(left = 0, bottom = 0.1,right = 0.5, top = 0.9, wspace = 0, hspace = 0.5)\n",
    "axes = figure.add_subplot(2, 1, 1)\n",
    "axes.scatter(X,Y)\n",
    "plt.show()\n",
    "#les category semblent être partagées en fonction des prix !"
   ]
  },
  {
   "cell_type": "code",
   "execution_count": 13,
   "metadata": {},
   "outputs": [
    {
     "data": {
      "image/png": "[encoded data removed]",
      "text/plain": [
       "<Figure size 1080x1080 with 1 Axes>"
      ]
     },
     "metadata": {
      "needs_background": "light"
     },
     "output_type": "display_data"
    }
   ],
   "source": [
    "X = np.array(np.sort(data[\"Price\"]))\n",
    "Y = np.array(data[\"Genres\"])\n",
    "figure = plt.figure(figsize = (15, 15))\n",
    "plt.gcf().subplots_adjust(left = 0, bottom = 0.1,right = 0.5, top = 0.9, wspace = 0, hspace = 0.5)\n",
    "axes = figure.add_subplot(2, 1, 1)\n",
    "axes.scatter(X,Y)\n",
    "plt.show()\n",
    "#les category semblent être partagées en fonction des prix !"
   ]
  },
  {
   "cell_type": "code",
   "execution_count": 14,
   "metadata": {
    "scrolled": true
   },
   "outputs": [
    {
     "data": {
      "image/png": "[encoded data removed]",
      "text/plain": [
       "<Figure size 720x720 with 1 Axes>"
      ]
     },
     "metadata": {
      "needs_background": "light"
     },
     "output_type": "display_data"
    }
   ],
   "source": [
    "X = np.array(np.sort(data[\"Price\"]))\n",
    "Y = np.array(data[\"Size\"])\n",
    "figure = plt.figure(figsize = (10, 10))\n",
    "plt.gcf().subplots_adjust(left = 0, bottom = 0.1,right = 1, top = 0.9, wspace = 0, hspace = 0.5)\n",
    "axes = figure.add_subplot(2, 1, 1)\n",
    "axes.scatter(X,Y)\n",
    "plt.show()"
   ]
  },
  {
   "cell_type": "code",
   "execution_count": 15,
   "metadata": {},
   "outputs": [
    {
     "data": {
      "image/png": "[encoded data removed]",
      "text/plain": [
       "<Figure size 1080x1080 with 1 Axes>"
      ]
     },
     "metadata": {
      "needs_background": "light"
     },
     "output_type": "display_data"
    }
   ],
   "source": [
    "X = np.array(np.sort(data[\"Price\"]))\n",
    "Y = np.array(data[\"Content Rating\"])\n",
    "figure = plt.figure(figsize = (15, 15))\n",
    "plt.gcf().subplots_adjust(left = 0, bottom = 0.1,right = 0.5, top = 0.9, wspace = 0, hspace = 0.5)\n",
    "axes = figure.add_subplot(2, 1, 1)\n",
    "axes.scatter(X,Y)\n",
    "plt.show()"
   ]
  },
  {
   "cell_type": "markdown",
   "metadata": {},
   "source": [
    "On remarque que certains critères n'évoluent pas en fonction du prix.\n",
    "D'autres critères ne peuvent pas être fournis lors de la mise au marché d'une application.\n",
    "Nous tentons alors de retirer certains critères dans le but d'avoir une représentation cohérente."
   ]
  },
  {
   "cell_type": "code",
   "execution_count": 16,
   "metadata": {},
   "outputs": [
    {
     "data": {
      "text/html": [
       "<div>\n",
       "<style scoped>\n",
       "    .dataframe tbody tr th:only-of-type {\n",
       "        vertical-align: middle;\n",
       "    }\n",
       "\n",
       "    .dataframe tbody tr th {\n",
       "        vertical-align: top;\n",
       "    }\n",
       "\n",
       "    .dataframe thead th {\n",
       "        text-align: right;\n",
       "    }\n",
       "</style>\n",
       "<table border=\"1\" class=\"dataframe\">\n",
       "  <thead>\n",
       "    <tr style=\"text-align: right;\">\n",
       "      <th></th>\n",
       "      <th>Category</th>\n",
       "      <th>Size</th>\n",
       "      <th>Price</th>\n",
       "      <th>Current Ver</th>\n",
       "    </tr>\n",
       "  </thead>\n",
       "  <tbody>\n",
       "    <tr>\n",
       "      <th>234</th>\n",
       "      <td>BUSINESS</td>\n",
       "      <td>6</td>\n",
       "      <td>4.99</td>\n",
       "      <td>1</td>\n",
       "    </tr>\n",
       "    <tr>\n",
       "      <th>235</th>\n",
       "      <td>BUSINESS</td>\n",
       "      <td>39</td>\n",
       "      <td>4.99</td>\n",
       "      <td>3</td>\n",
       "    </tr>\n",
       "    <tr>\n",
       "      <th>290</th>\n",
       "      <td>BUSINESS</td>\n",
       "      <td>6</td>\n",
       "      <td>4.99</td>\n",
       "      <td>1</td>\n",
       "    </tr>\n",
       "    <tr>\n",
       "      <th>291</th>\n",
       "      <td>BUSINESS</td>\n",
       "      <td>39</td>\n",
       "      <td>4.99</td>\n",
       "      <td>3</td>\n",
       "    </tr>\n",
       "    <tr>\n",
       "      <th>477</th>\n",
       "      <td>DATING</td>\n",
       "      <td>6</td>\n",
       "      <td>6.99</td>\n",
       "      <td>1</td>\n",
       "    </tr>\n",
       "  </tbody>\n",
       "</table>\n",
       "</div>"
      ],
      "text/plain": [
       "     Category  Size  Price  Current Ver\n",
       "234  BUSINESS     6   4.99            1\n",
       "235  BUSINESS    39   4.99            3\n",
       "290  BUSINESS     6   4.99            1\n",
       "291  BUSINESS    39   4.99            3\n",
       "477    DATING     6   6.99            1"
      ]
     },
     "execution_count": 16,
     "metadata": {},
     "output_type": "execute_result"
    }
   ],
   "source": [
    "##On retire les colonnes qui ne nous seront pas utiles\n",
    "colonnesAEliminer=[\"Genres\",\"App\",\"Type\",\"Reviews\",\"Rating\",\"Installs\",\"Android Ver\",\"Last Updated\",'Content Rating']\n",
    "data=data.drop(colonnesAEliminer, axis=1)\n",
    "data.head()"
   ]
  },
  {
   "cell_type": "code",
   "execution_count": 17,
   "metadata": {},
   "outputs": [
    {
     "name": "stdout",
     "output_type": "stream",
     "text": [
      "['ART_AND_DESIGN', 'BOOKS_AND_REFERENCE', 'BUSINESS', 'COMMUNICATION', 'DATING', 'EDUCATION', 'ENTERTAINMENT', 'FAMILY', 'FINANCE', 'FOOD_AND_DRINK', 'GAME', 'HEALTH_AND_FITNESS', 'LIFESTYLE', 'MAPS_AND_NAVIGATION', 'MEDICAL', 'NEWS_AND_MAGAZINES', 'PARENTING', 'PERSONALIZATION', 'PHOTOGRAPHY', 'PRODUCTIVITY', 'SHOPPING', 'SOCIAL', 'SPORTS', 'TOOLS', 'TRAVEL_AND_LOCAL', 'VIDEO_PLAYERS', 'WEATHER']\n"
     ]
    }
   ],
   "source": [
    "listeCateg=np.unique(data[\"Category\"].values).tolist()\n",
    "def categorisationCateg(val):\n",
    "    return listeCateg.index(val)+1 \n",
    "print(listeCateg)"
   ]
  },
  {
   "cell_type": "code",
   "execution_count": 18,
   "metadata": {},
   "outputs": [
    {
     "name": "stdout",
     "output_type": "stream",
     "text": [
      "(579, 4)\n"
     ]
    },
    {
     "data": {
      "text/html": [
       "<div>\n",
       "<style scoped>\n",
       "    .dataframe tbody tr th:only-of-type {\n",
       "        vertical-align: middle;\n",
       "    }\n",
       "\n",
       "    .dataframe tbody tr th {\n",
       "        vertical-align: top;\n",
       "    }\n",
       "\n",
       "    .dataframe thead th {\n",
       "        text-align: right;\n",
       "    }\n",
       "</style>\n",
       "<table border=\"1\" class=\"dataframe\">\n",
       "  <thead>\n",
       "    <tr style=\"text-align: right;\">\n",
       "      <th></th>\n",
       "      <th>Category</th>\n",
       "      <th>Size</th>\n",
       "      <th>Price</th>\n",
       "      <th>Current Ver</th>\n",
       "    </tr>\n",
       "  </thead>\n",
       "  <tbody>\n",
       "    <tr>\n",
       "      <th>10690</th>\n",
       "      <td>18</td>\n",
       "      <td>0</td>\n",
       "      <td>0.99</td>\n",
       "      <td>9</td>\n",
       "    </tr>\n",
       "    <tr>\n",
       "      <th>10697</th>\n",
       "      <td>11</td>\n",
       "      <td>16</td>\n",
       "      <td>0.99</td>\n",
       "      <td>1</td>\n",
       "    </tr>\n",
       "    <tr>\n",
       "      <th>10760</th>\n",
       "      <td>12</td>\n",
       "      <td>2</td>\n",
       "      <td>7.99</td>\n",
       "      <td>1</td>\n",
       "    </tr>\n",
       "    <tr>\n",
       "      <th>10782</th>\n",
       "      <td>11</td>\n",
       "      <td>11</td>\n",
       "      <td>16.99</td>\n",
       "      <td>2</td>\n",
       "    </tr>\n",
       "    <tr>\n",
       "      <th>10785</th>\n",
       "      <td>8</td>\n",
       "      <td>9</td>\n",
       "      <td>1.20</td>\n",
       "      <td>2</td>\n",
       "    </tr>\n",
       "  </tbody>\n",
       "</table>\n",
       "</div>"
      ],
      "text/plain": [
       "       Category  Size  Price  Current Ver\n",
       "10690        18     0   0.99            9\n",
       "10697        11    16   0.99            1\n",
       "10760        12     2   7.99            1\n",
       "10782        11    11  16.99            2\n",
       "10785         8     9   1.20            2"
      ]
     },
     "execution_count": 18,
     "metadata": {},
     "output_type": "execute_result"
    }
   ],
   "source": [
    "new_category=data[\"Category\"].apply(categorisationCateg)\n",
    "data[\"Category\"]=new_category.values\n",
    "\n",
    "print(data.shape)\n",
    "data.tail()"
   ]
  },
  {
   "cell_type": "markdown",
   "metadata": {},
   "source": [
    "## Partie 3 - Code Problématique"
   ]
  },
  {
   "cell_type": "code",
   "execution_count": 19,
   "metadata": {},
   "outputs": [
    {
     "data": {
      "text/html": [
       "<div>\n",
       "<style scoped>\n",
       "    .dataframe tbody tr th:only-of-type {\n",
       "        vertical-align: middle;\n",
       "    }\n",
       "\n",
       "    .dataframe tbody tr th {\n",
       "        vertical-align: top;\n",
       "    }\n",
       "\n",
       "    .dataframe thead th {\n",
       "        text-align: right;\n",
       "    }\n",
       "</style>\n",
       "<table border=\"1\" class=\"dataframe\">\n",
       "  <thead>\n",
       "    <tr style=\"text-align: right;\">\n",
       "      <th></th>\n",
       "      <th>Category</th>\n",
       "      <th>Size</th>\n",
       "      <th>Price</th>\n",
       "      <th>Current Ver</th>\n",
       "    </tr>\n",
       "  </thead>\n",
       "  <tbody>\n",
       "    <tr>\n",
       "      <th>234</th>\n",
       "      <td>3</td>\n",
       "      <td>6</td>\n",
       "      <td>4.99</td>\n",
       "      <td>1</td>\n",
       "    </tr>\n",
       "    <tr>\n",
       "      <th>235</th>\n",
       "      <td>3</td>\n",
       "      <td>39</td>\n",
       "      <td>4.99</td>\n",
       "      <td>3</td>\n",
       "    </tr>\n",
       "    <tr>\n",
       "      <th>290</th>\n",
       "      <td>3</td>\n",
       "      <td>6</td>\n",
       "      <td>4.99</td>\n",
       "      <td>1</td>\n",
       "    </tr>\n",
       "    <tr>\n",
       "      <th>291</th>\n",
       "      <td>3</td>\n",
       "      <td>39</td>\n",
       "      <td>4.99</td>\n",
       "      <td>3</td>\n",
       "    </tr>\n",
       "    <tr>\n",
       "      <th>477</th>\n",
       "      <td>5</td>\n",
       "      <td>6</td>\n",
       "      <td>6.99</td>\n",
       "      <td>1</td>\n",
       "    </tr>\n",
       "  </tbody>\n",
       "</table>\n",
       "</div>"
      ],
      "text/plain": [
       "     Category  Size  Price  Current Ver\n",
       "234         3     6   4.99            1\n",
       "235         3    39   4.99            3\n",
       "290         3     6   4.99            1\n",
       "291         3    39   4.99            3\n",
       "477         5     6   6.99            1"
      ]
     },
     "execution_count": 19,
     "metadata": {},
     "output_type": "execute_result"
    }
   ],
   "source": [
    "import numpy as np\n",
    "import pandas as pd\n",
    "import matplotlib.pyplot as plt\n",
    "import math\n",
    "from statistics import mean\n",
    "%matplotlib inline\n",
    "\n",
    "import sys\n",
    "sys.path.append('../')  \n",
    "\n",
    "import iads as iads\n",
    "\n",
    "# importation de Classifiers\n",
    "from iads import Classifiers as classif\n",
    "\n",
    "# importation de utils\n",
    "from iads import utils as ut\n",
    "\n",
    "data.head()\n"
   ]
  },
  {
   "cell_type": "markdown",
   "metadata": {},
   "source": [
    "On crée une fonction retour_prix capable de retourner un prix cohérent grâce à une liste d'affectations des clusters et des critères donnés en paramètres."
   ]
  },
  {
   "cell_type": "code",
   "execution_count": 20,
   "metadata": {},
   "outputs": [],
   "source": [
    "def most_common(lst):\n",
    "    #Retourne l'élement le plus présent dans la liste\n",
    "    return max(set(lst), key=lst.count)\n",
    "\n",
    "def retour_prix(df, Categ, Size, CurrentVer):\n",
    "    #Retourne en fonction des paramètres l'indice de df contenant des valeurs proches de celles des \n",
    "    #caractéristiques recherchées\n",
    "    liste = {}\n",
    "    for i in range(3):\n",
    "        liste[i]=[]\n",
    "        \n",
    "    for i in df:\n",
    "        moy=df[i][0]\n",
    "        ec = df[i][1]\n",
    "        #si élément compris entre moyenne et écart-type\n",
    "        if Categ <= moy[0]+ec[0] and Categ >= moy[0]-ec[0]:\n",
    "            liste[0].append(i)\n",
    "        if Size <= moy[1]+ec[1] and Size >= moy[1]-ec[1]:\n",
    "            liste[1].append(i)\n",
    "        if CurrentVer <= moy[3]+ec[3] and CurrentVer >= moy[3]-ec[3]:\n",
    "            liste[2].append(i)\n",
    "            \n",
    "    L = []\n",
    "    for i in range(3):\n",
    "        L+=liste[i]\n",
    "    return most_common(L) #on retourne le cluster ayant un max de points communs avec les param en entrée\n",
    "        "
   ]
  },
  {
   "cell_type": "markdown",
   "metadata": {},
   "source": [
    "## Partie 4 - Protocole expérimental"
   ]
  },
  {
   "cell_type": "markdown",
   "metadata": {},
   "source": [
    "Dans cette partie, on tente de vérifier que notre code et raisonnement sont bons. Par la suite, on tente de déterminer un futur prix et voir sa cohérence."
   ]
  },
  {
   "cell_type": "code",
   "execution_count": 21,
   "metadata": {},
   "outputs": [
    {
     "data": {
      "text/plain": [
       "<matplotlib.collections.PathCollection at 0x7f63b38d7f10>"
      ]
     },
     "execution_count": 21,
     "metadata": {},
     "output_type": "execute_result"
    },
    {
     "data": {
      "image/png": "[encoded data removed]",
      "text/plain": [
       "<Figure size 432x288 with 1 Axes>"
      ]
     },
     "metadata": {
      "needs_background": "light"
     },
     "output_type": "display_data"
    }
   ],
   "source": [
    "colonnes = data.columns\n",
    "data_desc1 = np.array(data[colonnes])\n",
    "data_desc1 = ut.normalisation(data_desc1)\n",
    "plt.scatter(data_desc1[:,0],data_desc1[:,1])"
   ]
  },
  {
   "cell_type": "code",
   "execution_count": 22,
   "metadata": {},
   "outputs": [
    {
     "name": "stdout",
     "output_type": "stream",
     "text": [
      "[0.99, 1.0, 1.2, 1.29, 1.49, 1.5, 1.59, 1.61, 1.7, 1.75, 1.76, 1.97, 1.99, 2.0, 2.49, 2.56, 2.59, 2.9, 2.99, 3.02, 3.04, 3.08, 3.28, 3.49, 3.88, 3.99, 4.29, 4.49, 4.6, 4.77, 4.84, 4.99, 5.49, 5.99, 6.49, 6.99, 7.49, 7.99, 8.49, 8.99, 9.0, 9.99, 10.0, 10.99, 11.99, 12.99, 13.99, 14.0, 14.99, 15.46, 15.99, 16.99, 17.99, 18.99, 19.4, 19.99, 24.99, 29.99, 33.99, 37.99, 39.99, 79.99, 299.99, 379.99, 389.99, 399.99, 400.0]\n",
      "67\n"
     ]
    }
   ],
   "source": [
    "listePrices = np.unique(data[\"Price\"].values).tolist()\n",
    "print(listePrices)\n",
    "print(len(listePrices))"
   ]
  },
  {
   "cell_type": "markdown",
   "metadata": {},
   "source": [
    "Pour la suite du problème on fixe K à 30 afin d'avoir - si possible- un cluster par tranche de prix tout en considérant les autres paramètres.\n",
    "On tente de vérifier que les prix prédis sont cohérents comparés aux prix actuels des applications."
   ]
  },
  {
   "cell_type": "code",
   "execution_count": 52,
   "metadata": {
    "scrolled": true
   },
   "outputs": [
    {
     "name": "stdout",
     "output_type": "stream",
     "text": [
      "Fini\n"
     ]
    },
    {
     "data": {
      "image/png": "[encoded data removed]",
      "text/plain": [
       "<Figure size 432x288 with 1 Axes>"
      ]
     },
     "metadata": {
      "needs_background": "light"
     },
     "output_type": "display_data"
    }
   ],
   "source": [
    "K=35\n",
    "centres1,affectation1 = ut.kmoyennes(K, data_desc1, 0.05, 100)\n",
    "ut.affiche_resultat(data_desc1,centres1,affectation1,K)\n"
   ]
  },
  {
   "cell_type": "code",
   "execution_count": 53,
   "metadata": {},
   "outputs": [],
   "source": [
    "columns=data.columns\n",
    "liste1 = {}\n",
    "for c in affectation1:\n",
    "    tab = (data[columns].iloc[affectation1[int(c)]]).agg([\"mean\", \"std\"])\n",
    "    #Moyenne et Ecart-Type\n",
    "    liste1[int(c)] = tab.values"
   ]
  },
  {
   "cell_type": "code",
   "execution_count": 54,
   "metadata": {
    "scrolled": true
   },
   "outputs": [
    {
     "name": "stdout",
     "output_type": "stream",
     "text": [
      "On teste Sago Mini Hat Maker, prix = $3.99\n",
      "\n",
      "Prix moyen du cluster: $ 2.61\n",
      "Avec un écart-type de: $ 1.56\n"
     ]
    }
   ],
   "source": [
    "###ICI ON FAIT NOTRE DEMANDE:\n",
    "#Veuillez indiquer selon ce tableau, les caractéristiques de votre application\n",
    "print(\"On teste Sago Mini Hat Maker, prix = $3.99\")\n",
    "Categ = categorisationCateg(\"EDUCATION\")\n",
    "size = categorisationSize(\"63M\")\n",
    "inst = categorisationInstalls(\"1,000+\")\n",
    "LU = categorisationLU(\"July 21, 2017\")\n",
    "CurrV = categorisationCurrV(\"1.3\")\n",
    "\n",
    "categ1 = retour_prix(liste1,Categ,size,CurrV)\n",
    "prix1 = liste1[categ1][0][2]\n",
    "ec1 = liste1[categ1][1][2]\n",
    "prix1 = liste1[categ1][0][2]\n",
    "print(\"\\nPrix moyen du cluster: $\",round(prix1,2))\n",
    "print(\"Avec un écart-type de: $\",round(ec1,2))"
   ]
  },
  {
   "cell_type": "code",
   "execution_count": 55,
   "metadata": {
    "scrolled": true
   },
   "outputs": [
    {
     "name": "stdout",
     "output_type": "stream",
     "text": [
      "On teste Calculator, prix = $6.99\n",
      "\n",
      "Prix moyen du cluster: $ 3.74\n",
      "Avec un écart-type de: $ 2.23\n"
     ]
    }
   ],
   "source": [
    "###ICI ON FAIT NOTRE DEMANDE:\n",
    "#Veuillez indiquer selon ce tableau, les caractéristiques de votre application\n",
    "print(\"On teste Calculator, prix = $6.99\")\n",
    "Categ = categorisationCateg(\"DATING\")\n",
    "size = categorisationSize(\"6.2M\")\n",
    "CurrV = categorisationCurrV(\"1.1.6\")\n",
    "\n",
    "categ1 = retour_prix(liste1,Categ,size,CurrV)\n",
    "prix1 = liste1[categ1][0][2]\n",
    "ec1 = liste1[categ1][1][2]\n",
    "prix1 = liste1[categ1][0][2]\n",
    "print(\"\\nPrix moyen du cluster: $\",round(prix1,2))\n",
    "print(\"Avec un écart-type de: $\",round(ec1,2))"
   ]
  },
  {
   "cell_type": "code",
   "execution_count": 56,
   "metadata": {
    "scrolled": true
   },
   "outputs": [
    {
     "name": "stdout",
     "output_type": "stream",
     "text": [
      "On teste Monument Valley 2, prix = $4.99\n",
      "\n",
      "Prix moyen du cluster: $ 4.52\n",
      "Avec un écart-type de: $ 2.65\n"
     ]
    }
   ],
   "source": [
    "###ICI ON FAIT NOTRE DEMANDE:\n",
    "#Veuillez indiquer selon ce tableau, les caractéristiques de votre application\n",
    "print(\"On teste Monument Valley 2, prix = $4.99\")\n",
    "Categ = categorisationCateg(\"GAME\")\n",
    "size = categorisationSize(\"33M\")\n",
    "CurrV = categorisationCurrV(\"1.2.9\")\n",
    "\n",
    "categ1 = retour_prix(liste1,Categ,size,CurrV)\n",
    "prix1 = liste1[categ1][0][2]\n",
    "ec1 = liste1[categ1][1][2]\n",
    "prix1 = liste1[categ1][0][2]\n",
    "print(\"\\nPrix moyen du cluster: $\",round(prix1,2))\n",
    "print(\"Avec un écart-type de: $\",round(ec1,2))"
   ]
  },
  {
   "cell_type": "code",
   "execution_count": 57,
   "metadata": {
    "scrolled": true
   },
   "outputs": [
    {
     "name": "stdout",
     "output_type": "stream",
     "text": [
      "On teste Dress Up RagazzA13 DX, prix = $0.99\n",
      "\n",
      "Prix moyen du cluster: $ 2.65\n",
      "Avec un écart-type de: $ 1.58\n"
     ]
    }
   ],
   "source": [
    "###ICI ON FAIT NOTRE DEMANDE:\n",
    "#Veuillez indiquer selon ce tableau, les caractéristiques de votre application\n",
    "print(\"On teste Dress Up RagazzA13 DX, prix = $0.99\")\n",
    "Categ = categorisationCateg(\"FAMILY\")\n",
    "size = categorisationSize(\"42M\")\n",
    "CurrV = categorisationCurrV(\"1.0.5\")\n",
    "\n",
    "categ1 = retour_prix(liste1,Categ,size,CurrV)\n",
    "prix1 = liste1[categ1][0][2]\n",
    "ec1 = liste1[categ1][1][2]\n",
    "prix1 = liste1[categ1][0][2]\n",
    "print(\"\\nPrix moyen du cluster: $\",round(prix1,2))\n",
    "print(\"Avec un écart-type de: $\",round(ec1,2))"
   ]
  },
  {
   "cell_type": "markdown",
   "metadata": {},
   "source": [
    "#### Limites du code:"
   ]
  },
  {
   "cell_type": "code",
   "execution_count": 58,
   "metadata": {
    "scrolled": true
   },
   "outputs": [
    {
     "name": "stdout",
     "output_type": "stream",
     "text": [
      "On teste I am rich(premium), prix = $399.99\n",
      "\n",
      "Prix moyen du cluster: $ 3.03\n",
      "Avec un écart-type de: $ 1.65\n"
     ]
    }
   ],
   "source": [
    "###ICI ON FAIT NOTRE DEMANDE:\n",
    "#Veuillez indiquer selon ce tableau, les caractéristiques de votre application\n",
    "print(\"On teste I am rich(premium), prix = $399.99\")\n",
    "Categ = categorisationCateg(\"FINANCE\")\n",
    "size = categorisationSize(\"965k\")\n",
    "CurrV = categorisationCurrV(\"3.4\")\n",
    "\n",
    "categ1 = retour_prix(liste1,Categ,size,CurrV)\n",
    "prix1 = liste1[categ1][0][2]\n",
    "ec1 = liste1[categ1][1][2]\n",
    "prix1 = liste1[categ1][0][2]\n",
    "print(\"\\nPrix moyen du cluster: $\",round(prix1,2))\n",
    "print(\"Avec un écart-type de: $\",round(ec1,2))"
   ]
  },
  {
   "cell_type": "code",
   "execution_count": 59,
   "metadata": {
    "scrolled": true
   },
   "outputs": [
    {
     "name": "stdout",
     "output_type": "stream",
     "text": [
      "      Category  Size   Price  Current Ver\n",
      "2253        15    32   79.99            1\n",
      "2365        15    32   79.99            1\n",
      "4197         8     1  399.99            1\n",
      "4362        13    26  399.99            1\n",
      "4367        13     7  400.00            1\n",
      "5351        13     1  399.99            2\n",
      "5354         8     8  399.99            3\n",
      "5355        13     2  299.99            1\n",
      "5356         9     4  399.99            1\n",
      "5357        13     2  379.99            1\n",
      "5358         9    22  399.99            1\n",
      "5359         9     0  399.99            3\n",
      "5362         8     2  399.99            1\n",
      "5364         9     2  399.99            2\n",
      "5366         8     4  389.99            1\n",
      "5369         9     3  399.99            1\n",
      "5373         9    41  399.99            1 \n",
      "\n",
      "Il y a  17 valeurs noyées ! sur 579\n"
     ]
    }
   ],
   "source": [
    "L= data.loc[data['Price']>=50]\n",
    "print(L,\"\\n\\nIl y a \",len(L),'valeurs noyées ! sur',data.shape[0])\n",
    "#Il n'y a que quelques valeurs dont les prix dépassent les $50\n",
    "#On peut dire que les différences de taille et de catégories \n",
    "#rendent le modèle plus complexe. De plus, dans chacune des catégories,\n",
    "#la moyenne des prix est largement inférieure à ces prix. \n",
    "#Tout cela justifie pourquoi l'algorithme ne trouve pas le prix."
   ]
  },
  {
   "cell_type": "markdown",
   "metadata": {},
   "source": [
    "## Partie 5 - Résultats\n",
    "\n",
    "On remarque que les données sont réparties pour la plupart de manière cohérente au sein des clusters. On retrouve les prix recherchés initialement en fonction des arguments passés en paramètres.\n",
    "\n",
    "Les résultats sont rendus en fonction de la catégorie, de la taille, mais aussi de la dernière version réalisée étant les critères les plus influents sur le prix.\n",
    "Les résultats sont compris entre prix de base du cluster +- écart-type.\n"
   ]
  },
  {
   "cell_type": "markdown",
   "metadata": {},
   "source": [
    "## Partie 6 - Analyse\n",
    "\n",
    "Lors de l'affichage des prix, nous remarquons que la plupart des prix sont compris dans la fourchette énoncée.\n",
    "L'algorithme Kmoyennes nous a permis de déterminer de manière rapide et simple le prix d'une application accompagné d'une marge.\n",
    "\n",
    "Toutefois, Kmoyennes ne permet pas, de gérer les formes complexes.\n",
    "Quelques prix au sein d'une même catégorie ont des valeurs beaucoup trop éloignées de la moyenne et ne sont pas pris en compte dans le bon cluster."
   ]
  }
 ],
 "metadata": {
  "kernelspec": {
   "display_name": "Python 3",
   "language": "python",
   "name": "python3"
  },
  "language_info": {
   "codemirror_mode": {
    "name": "ipython",
    "version": 3
   },
   "file_extension": ".py",
   "mimetype": "text/x-python",
   "name": "python",
   "nbconvert_exporter": "python",
   "pygments_lexer": "ipython3",
   "version": "3.8.3"
  }
 },
 "nbformat": 4,
 "nbformat_minor": 1
}
